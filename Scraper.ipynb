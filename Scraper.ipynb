{
 "cells": [
  {
   "cell_type": "code",
   "execution_count": 4,
   "id": "a44ef630-6884-4995-ac87-af9ae7d1822c",
   "metadata": {},
   "outputs": [],
   "source": [
    "import numpy as np\n",
    "import pandas as pd\n"
   ]
  },
  {
   "cell_type": "code",
   "execution_count": 5,
   "id": "d95ea2f1-cd9b-4efb-a254-913aa5536846",
   "metadata": {},
   "outputs": [
    {
     "name": "stdout",
     "output_type": "stream",
     "text": [
      "number of seasons=9\n",
      "number of teams=32\n"
     ]
    }
   ],
   "source": [
    "seasons = [str(season) for season in range(2014,2023)]\n",
    "print(f'number of seasons={len(seasons)}')\n",
    "\n",
    "teams = ['crd','atl','rav','buf','car','chi','cin','cle','dal','den','det','gnb','htx','clt','jax','kan',\n",
    "         'rai','sdg','ram','mia','min','nwe','nor','nyg','nyj','phi','pit','sfo','sea','tam','oti','was']\n",
    "\n",
    "print(f'number of teams={len(teams)}')"
   ]
  },
  {
   "cell_type": "code",
   "execution_count": null,
   "id": "14c2f388-68e1-404e-a45a-fef3d91d1553",
   "metadata": {},
   "outputs": [],
   "source": [
    "import random\n",
    "import time\n",
    "\n",
    "nfl_df = pd.DataFrame()\n",
    "\n",
    "for season in seasons:\n",
    "  for team in teams:\n",
    "    url = 'https://www.pro-football-reference.com/teams/' + team + '/' + season + '/gamelog/'\n",
    "    print(url)\n",
    "\n",
    "    # Go through and scrape the stats for each season and team\n",
    "    off_df = pd.read_html(url, header=1, attrs={'id':'gamelog' + season})[0]\n",
    "\n",
    "    def_df = pd.read_html(url, header=1, attrs={'id':'gamelog_opp' + season})[0]\n",
    "\n",
    "    team_df = pd.concat([off_df, def_df], axis=1)\n",
    "\n",
    "    team_df.insert(loc=0, column='Season', value=season)\n",
    "\n",
    "    team_df.insert(loc=2, column='Team', value=team.upper())\n",
    "\n",
    "    nfl_df = pd.concat([nfl_df, team_df], ignore_index=True)\n",
    "\n",
    "    # Put code to sleep to avoid scrapping problems\n",
    "    time.sleep(random.randint(7, 8))\n"
   ]
  },
  {
   "cell_type": "code",
   "execution_count": 4,
   "id": "f818604b-55c8-4525-8939-c071bf574b51",
   "metadata": {},
   "outputs": [],
   "source": [
    "nfl_df.to_csv('nfl_scraper.csv', index=False)"
   ]
  },
  {
   "cell_type": "code",
   "execution_count": 6,
   "id": "ad0bb0c0-12fa-4e74-9b0e-9a51df5b9e63",
   "metadata": {},
   "outputs": [
    {
     "name": "stdout",
     "output_type": "stream",
     "text": [
      "(4670, 74)\n"
     ]
    }
   ],
   "source": [
    "nfl_df = pd.read_csv('nfl_scraper.csv')\n",
    "print(nfl_df.shape)"
   ]
  },
  {
   "cell_type": "code",
   "execution_count": 17,
   "id": "5110db7b-246c-4d77-8422-f4f25a7e131a",
   "metadata": {},
   "outputs": [],
   "source": [
    "nfl_pts_df = nfl_df.drop(nfl_df.columns[12:], axis=1)\n",
    "nfl_pts_df = nfl_pts_df.drop(nfl_pts_df.columns[5:6], axis=1)"
   ]
  },
  {
   "cell_type": "code",
   "execution_count": 18,
   "id": "72a135ed-fa11-44f7-8fba-d5afcb3f05f7",
   "metadata": {
    "scrolled": true
   },
   "outputs": [
    {
     "name": "stdout",
     "output_type": "stream",
     "text": [
      "(4670, 11)\n"
     ]
    }
   ],
   "source": [
    "print(nfl_pts_df.shape)"
   ]
  },
  {
   "cell_type": "code",
   "execution_count": 19,
   "id": "1bd737d0-9b82-429e-95b5-1d0cae941347",
   "metadata": {},
   "outputs": [
    {
     "name": "stdout",
     "output_type": "stream",
     "text": [
      "<class 'pandas.core.frame.DataFrame'>\n",
      "RangeIndex: 4670 entries, 0 to 4669\n",
      "Data columns (total 11 columns):\n",
      " #   Column   Non-Null Count  Dtype \n",
      "---  ------   --------------  ----- \n",
      " 0   Season   4670 non-null   int64 \n",
      " 1   Week     4670 non-null   int64 \n",
      " 2   Team     4670 non-null   object\n",
      " 3   Day      4670 non-null   object\n",
      " 4   Date     4670 non-null   object\n",
      " 5   Win      4670 non-null   object\n",
      " 6   OT       268 non-null    object\n",
      " 7   Home     2335 non-null   object\n",
      " 8   Opp      4670 non-null   object\n",
      " 9   Off_Pts  4670 non-null   int64 \n",
      " 10  Def_Pts  4670 non-null   int64 \n",
      "dtypes: int64(4), object(7)\n",
      "memory usage: 401.5+ KB\n",
      "None\n"
     ]
    }
   ],
   "source": [
    "column_names = {'Unnamed: 4':'Win', 'Unnamed: 6':'Home', 'Tm':'Off_Pts', 'Opp.1':'Def_Pts'} \n",
    "nfl_pts_df = nfl_pts_df.rename(columns=column_names)\n",
    "print(nfl_pts_df.info(verbose=True))"
   ]
  },
  {
   "cell_type": "code",
   "execution_count": 20,
   "id": "22ef8849-38c7-4de3-931d-f4c7b37fefb2",
   "metadata": {},
   "outputs": [],
   "source": [
    "team_dict = {'Arizona Cardinals':'CRD', 'Atlanta Falcons':'ATL', 'Baltimore Ravens':'RAV',\n",
    "             'Buffalo Bills':'BUF', 'Carolina Panthers':'CAR', 'Chicago Bears':'CHI',\n",
    "             'Cincinnati Bengals':'CIN', 'Cleveland Browns':'CLE', 'Dallas Cowboys':'DAL',\n",
    "             'Denver Broncos':'DEN', 'Detroit Lions':'DET', 'Green Bay Packers':'GNB',\n",
    "             'Houston Texans':'HTX', 'Indianapolis Colts':'CLT', 'Jacksonville Jaguars':'JAX',\n",
    "             'Kansas City Chiefs':'KAN', 'Los Angeles Chargers':'SDG', 'Los Angeles Rams':'RAM',\n",
    "             'Las Vegas Raiders':'RAI', 'Oakland Raiders':'RAI', 'Miami Dolphins':'MIA',\n",
    "             'Minnesota Vikings':'MIN', 'New England Patriots':'NWE', 'New Orleans Saints':'NOR',\n",
    "             'New York Giants':'NYG', 'New York Jets':'NYJ', 'Philadelphia Eagles':'PHI',\n",
    "             'Pittsburgh Steelers':'PIT', 'St. Louis Rams':'RAM', 'San Diego Chargers':'SDG',\n",
    "             'San Francisco 49ers':'SFO', 'Seattle Seahawks':'SEA', 'Tampa Bay Buccaneers':'TAM',\n",
    "             'Tennessee Titans':'OTI', 'Washington Commanders':'WAS', 'Washington Football Team':'WAS',\n",
    "             'Washington Redskins':'WAS'}\n",
    "nfl_pts_df = nfl_pts_df.replace({'Opp': team_dict})"
   ]
  },
  {
   "cell_type": "code",
   "execution_count": 21,
   "id": "4b50ec1a-0b0a-4f0a-8c42-cf0f527edad4",
   "metadata": {},
   "outputs": [],
   "source": [
    "nfl_pts_df['Win'] = nfl_pts_df['Win'].apply(lambda x: 1 if x == 'W' else 0)\n",
    "\n",
    "nfl_pts_df['OT'] = nfl_pts_df['OT'].apply(lambda x: 1 if x == 'OT' else 0)\n",
    "\n",
    "nfl_pts_df['Home'] = nfl_pts_df['Home'].apply(lambda x: 0 if x == '@' else 1)"
   ]
  },
  {
   "cell_type": "code",
   "execution_count": 22,
   "id": "a1c22e93-374b-4ffb-a822-301ed42cecbb",
   "metadata": {},
   "outputs": [
    {
     "name": "stdout",
     "output_type": "stream",
     "text": [
      "      Season  Week Team  Day          Date  Win  OT  Home  Opp  Off_Pts  \\\n",
      "0       2014     1  CRD  Mon   September 8    1   0     1  SDG       18   \n",
      "1       2014     2  CRD  Sun  September 14    1   0     0  NYG       25   \n",
      "2       2014     3  CRD  Sun  September 21    1   0     1  SFO       23   \n",
      "3       2014     5  CRD  Sun     October 5    0   0     0  DEN       20   \n",
      "4       2014     6  CRD  Sun    October 12    1   0     1  WAS       30   \n",
      "...      ...   ...  ...  ...           ...  ...  ..   ...  ...      ...   \n",
      "4665    2022    13  WAS  Sun    December 4    0   1     0  NYG       20   \n",
      "4666    2022    15  WAS  Sun   December 18    0   0     1  NYG       12   \n",
      "4667    2022    16  WAS  Sat   December 24    0   0     0  SFO       20   \n",
      "4668    2022    17  WAS  Sun     January 1    0   0     1  CLE       10   \n",
      "4669    2022    18  WAS  Sun     January 8    1   0     1  DAL       26   \n",
      "\n",
      "      Def_Pts  \n",
      "0          17  \n",
      "1          14  \n",
      "2          14  \n",
      "3          41  \n",
      "4          20  \n",
      "...       ...  \n",
      "4665       20  \n",
      "4666       20  \n",
      "4667       37  \n",
      "4668       24  \n",
      "4669        6  \n",
      "\n",
      "[4670 rows x 11 columns]\n"
     ]
    }
   ],
   "source": [
    "print(nfl_pts_df)"
   ]
  },
  {
   "cell_type": "code",
   "execution_count": null,
   "id": "6b18ae03-0ee1-402c-a67b-ed7af6a492b3",
   "metadata": {},
   "outputs": [],
   "source": [
    "import random \n",
    "import time \n",
    "\n",
    "veg_df = pd.DataFrame()\n",
    "\n",
    "for season in seasons:\n",
    "    for team in teams:\n",
    "        url = 'https://www.pro-football-reference.com/teams/' + team + '/' + season + '_lines.htm'\n",
    "        print(url)\n",
    "\n",
    "        lines_df = pd.read_html(url, header=0, attrs={'id':'vegas_lines'})[0]\n",
    "\n",
    "        lines_df.insert(loc=0, column='Season', value=season)\n",
    "\n",
    "        lines_df.insert(loc=2, column='Team', value=team.upper())\n",
    "\n",
    "        veg_df = pd.concat([veg_df, lines_df], ignore_index=True)\n",
    "\n",
    "        time.sleep(random.randint(7, 8))\n",
    "\n",
    "print(veg_df)"
   ]
  },
  {
   "cell_type": "code",
   "execution_count": 16,
   "id": "25ddb062-62a6-480e-8c2a-bf3d211176a2",
   "metadata": {},
   "outputs": [],
   "source": [
    "veg_df.to_csv('nfl_vegas_lines.csv', index=False)"
   ]
  },
  {
   "cell_type": "code",
   "execution_count": 9,
   "id": "24688943-1ca0-400a-9eb5-6e7b02ea8c52",
   "metadata": {},
   "outputs": [
    {
     "name": "stdout",
     "output_type": "stream",
     "text": [
      "(4880, 9)\n"
     ]
    }
   ],
   "source": [
    "veg_df = pd.read_csv('nfl_vegas_lines.csv')\n",
    "\n",
    "print(veg_df.shape)"
   ]
  },
  {
   "cell_type": "code",
   "execution_count": 10,
   "id": "6566a219-473d-47d0-9a4f-fc8478bbe73d",
   "metadata": {},
   "outputs": [
    {
     "name": "stdout",
     "output_type": "stream",
     "text": [
      "<class 'pandas.core.frame.DataFrame'>\n",
      "RangeIndex: 4880 entries, 0 to 4879\n",
      "Data columns (total 6 columns):\n",
      " #   Column      Non-Null Count  Dtype  \n",
      "---  ------      --------------  -----  \n",
      " 0   Season      4880 non-null   int64  \n",
      " 1   G#          4880 non-null   int64  \n",
      " 2   Team        4880 non-null   object \n",
      " 3   Opp         4880 non-null   object \n",
      " 4   Spread      4880 non-null   float64\n",
      " 5   Over/Under  4880 non-null   float64\n",
      "dtypes: float64(2), int64(2), object(2)\n",
      "memory usage: 228.9+ KB\n",
      "None\n"
     ]
    }
   ],
   "source": [
    "veg_df = veg_df.drop(veg_df.columns[6:], axis=1)\n",
    "print(veg_df.info(verbose=True))"
   ]
  },
  {
   "cell_type": "code",
   "execution_count": 11,
   "id": "47fe274e-0bb7-4061-8504-573b8b0aa855",
   "metadata": {},
   "outputs": [
    {
     "name": "stdout",
     "output_type": "stream",
     "text": [
      "<class 'pandas.core.frame.DataFrame'>\n",
      "RangeIndex: 4880 entries, 0 to 4879\n",
      "Data columns (total 6 columns):\n",
      " #   Column  Non-Null Count  Dtype  \n",
      "---  ------  --------------  -----  \n",
      " 0   Season  4880 non-null   int64  \n",
      " 1   G       4880 non-null   int64  \n",
      " 2   Team    4880 non-null   object \n",
      " 3   Opp     4880 non-null   object \n",
      " 4   Spread  4880 non-null   float64\n",
      " 5   Total   4880 non-null   float64\n",
      "dtypes: float64(2), int64(2), object(2)\n",
      "memory usage: 228.9+ KB\n",
      "None\n"
     ]
    }
   ],
   "source": [
    "column_names = {'G#':'G', 'Over/Under':'Total'}\n",
    "veg_df = veg_df.rename(columns=column_names)\n",
    "print(veg_df.info(verbose=True))"
   ]
  },
  {
   "cell_type": "code",
   "execution_count": 12,
   "id": "bd5f7191-d936-416a-b9f0-06e14a77bbe8",
   "metadata": {},
   "outputs": [
    {
     "name": "stdout",
     "output_type": "stream",
     "text": [
      "(4670, 6)\n"
     ]
    }
   ],
   "source": [
    "veg_df = veg_df.query('(Season <= 2020 and G < 17) or (Season >= 2021 and G < 18)')\n",
    "print(veg_df.shape)"
   ]
  },
  {
   "cell_type": "code",
   "execution_count": 13,
   "id": "bc31d237-4b4e-4264-a97d-e0b0a0e79b47",
   "metadata": {},
   "outputs": [],
   "source": [
    "veg_df['Home'] = veg_df['Opp'].apply(lambda x: 0 if x[0] == '@' else 1)"
   ]
  },
  {
   "cell_type": "code",
   "execution_count": 14,
   "id": "80bb01b6-e49a-44da-9c9b-7b2dbdb92839",
   "metadata": {},
   "outputs": [],
   "source": [
    "veg_df['Opp'] = veg_df['Opp'].apply(lambda x: x[1:] if x[0] == '@' else x)\n",
    "\n",
    "abbr_dict = {'OAK':'RAI', 'LVR':'RAI', 'STL':'RAM', 'LAR':'RAM', 'LAC':'SDG',\n",
    "             'IND':'CLT', 'HOU':'HTX', 'BAL':'RAV', 'ARI':'CRD', 'TEN':'OTI'}\n",
    "veg_df = veg_df.replace({'Opp': abbr_dict})"
   ]
  },
  {
   "cell_type": "code",
   "execution_count": 15,
   "id": "19518b8c-46e7-473f-9959-d545d9efb7d1",
   "metadata": {},
   "outputs": [
    {
     "name": "stdout",
     "output_type": "stream",
     "text": [
      "(4670, 11)\n",
      "(4670, 7)\n"
     ]
    }
   ],
   "source": [
    "print(nfl_pts_df.shape)\n",
    "print(veg_df.shape)"
   ]
  },
  {
   "cell_type": "code",
   "execution_count": 24,
   "id": "d0c54e8e-d393-4eb0-b721-48aec646c037",
   "metadata": {
    "scrolled": true
   },
   "outputs": [],
   "source": [
    "merged_df = pd.merge(nfl_pts_df, veg_df, on=['Season','Team','Opp','Home'])"
   ]
  },
  {
   "cell_type": "code",
   "execution_count": 25,
   "id": "237f2d0c-3b56-4749-bc7e-d089d7fb0c2a",
   "metadata": {},
   "outputs": [
    {
     "name": "stdout",
     "output_type": "stream",
     "text": [
      "    Season  Week Team  Day          Date  Win  OT  Home  Opp  Off_Pts  Def_Pts\n",
      "0     2014     1  CRD  Mon   September 8    1   0     1  SDG       18       17\n",
      "1     2014     2  CRD  Sun  September 14    1   0     0  NYG       25       14\n",
      "2     2014     3  CRD  Sun  September 21    1   0     1  SFO       23       14\n",
      "3     2014     5  CRD  Sun     October 5    0   0     0  DEN       20       41\n",
      "4     2014     6  CRD  Sun    October 12    1   0     1  WAS       30       20\n",
      "5     2014     7  CRD  Sun    October 19    1   0     0  RAI       24       13\n",
      "6     2014     8  CRD  Sun    October 26    1   0     1  PHI       24       20\n",
      "7     2014     9  CRD  Sun    November 2    1   0     0  DAL       28       17\n",
      "8     2014    10  CRD  Sun    November 9    1   0     1  RAM       31       14\n",
      "9     2014    11  CRD  Sun   November 16    1   0     1  DET       14        6\n",
      "10    2014    12  CRD  Sun   November 23    0   0     0  SEA        3       19\n",
      "11    2014    13  CRD  Sun   November 30    0   0     0  ATL       18       29\n",
      "12    2014    14  CRD  Sun    December 7    1   0     1  KAN       17       14\n",
      "13    2014    15  CRD  Thu   December 11    1   0     0  RAM       12        6\n",
      "14    2014    16  CRD  Sun   December 21    0   0     1  SEA        6       35\n",
      "15    2014    17  CRD  Sun   December 28    0   0     0  SFO       17       20\n",
      "    Season   G Team  Opp  Spread  Total  Home\n",
      "0     2014   1  CRD  SDG    -3.0   45.0     1\n",
      "1     2014   2  CRD  NYG    -2.0   42.5     0\n",
      "2     2014   3  CRD  SFO     3.0   42.0     1\n",
      "3     2014   4  CRD  DEN     7.5   48.0     0\n",
      "4     2014   5  CRD  WAS    -5.5   47.0     1\n",
      "5     2014   6  CRD  RAI    -3.5   46.5     0\n",
      "6     2014   7  CRD  PHI     1.0   48.5     1\n",
      "7     2014   8  CRD  DAL     1.5   45.0     0\n",
      "8     2014   9  CRD  RAM    -7.0   43.0     1\n",
      "9     2014  10  CRD  DET    -1.0   41.0     1\n",
      "10    2014  11  CRD  SEA     7.0   41.5     0\n",
      "11    2014  12  CRD  ATL    -1.5   45.0     0\n",
      "12    2014  13  CRD  KAN     2.5   41.0     1\n",
      "13    2014  14  CRD  RAM     4.5   40.5     0\n",
      "14    2014  15  CRD  SEA     9.0   36.0     1\n",
      "15    2014  16  CRD  SFO     6.5   37.5     0\n",
      "    Season  Week Team  Day          Date  Win  OT  Home  Opp  Off_Pts  \\\n",
      "0     2014     1  CRD  Mon   September 8    1   0     1  SDG       18   \n",
      "1     2014     2  CRD  Sun  September 14    1   0     0  NYG       25   \n",
      "2     2014     3  CRD  Sun  September 21    1   0     1  SFO       23   \n",
      "3     2014     5  CRD  Sun     October 5    0   0     0  DEN       20   \n",
      "4     2014     6  CRD  Sun    October 12    1   0     1  WAS       30   \n",
      "5     2014     7  CRD  Sun    October 19    1   0     0  RAI       24   \n",
      "6     2014     8  CRD  Sun    October 26    1   0     1  PHI       24   \n",
      "7     2014     9  CRD  Sun    November 2    1   0     0  DAL       28   \n",
      "8     2014    10  CRD  Sun    November 9    1   0     1  RAM       31   \n",
      "9     2014    11  CRD  Sun   November 16    1   0     1  DET       14   \n",
      "10    2014    12  CRD  Sun   November 23    0   0     0  SEA        3   \n",
      "11    2014    13  CRD  Sun   November 30    0   0     0  ATL       18   \n",
      "12    2014    14  CRD  Sun    December 7    1   0     1  KAN       17   \n",
      "13    2014    15  CRD  Thu   December 11    1   0     0  RAM       12   \n",
      "14    2014    16  CRD  Sun   December 21    0   0     1  SEA        6   \n",
      "15    2014    17  CRD  Sun   December 28    0   0     0  SFO       17   \n",
      "\n",
      "    Def_Pts   G  Spread  Total  \n",
      "0        17   1    -3.0   45.0  \n",
      "1        14   2    -2.0   42.5  \n",
      "2        14   3     3.0   42.0  \n",
      "3        41   4     7.5   48.0  \n",
      "4        20   5    -5.5   47.0  \n",
      "5        13   6    -3.5   46.5  \n",
      "6        20   7     1.0   48.5  \n",
      "7        17   8     1.5   45.0  \n",
      "8        14   9    -7.0   43.0  \n",
      "9         6  10    -1.0   41.0  \n",
      "10       19  11     7.0   41.5  \n",
      "11       29  12    -1.5   45.0  \n",
      "12       14  13     2.5   41.0  \n",
      "13        6  14     4.5   40.5  \n",
      "14       35  15     9.0   36.0  \n",
      "15       20  16     6.5   37.5  \n"
     ]
    }
   ],
   "source": [
    "print(nfl_pts_df.query('Season == 2014 and Team == \"CRD\"'))\n",
    "print(veg_df.query('Season == 2014 and Team == \"CRD\"')) \n",
    "print(merged_df.query('Season == 2014 and Team == \"CRD\"'))                      "
   ]
  },
  {
   "cell_type": "code",
   "execution_count": 26,
   "id": "a4e388df-e57e-4288-9dc4-e2501a8987fe",
   "metadata": {},
   "outputs": [],
   "source": [
    "merged_df.to_csv('nfl_pts_and-vegas.csv', index=False)"
   ]
  },
  {
   "cell_type": "code",
   "execution_count": 1,
   "id": "bd78404f-b373-4c02-83bd-a3f68cac74fc",
   "metadata": {},
   "outputs": [],
   "source": [
    "import numpy as np\n",
    "import pandas as pd"
   ]
  },
  {
   "cell_type": "code",
   "execution_count": 2,
   "id": "49fb21ce-1e45-441b-847f-598d49cd4b40",
   "metadata": {},
   "outputs": [
    {
     "name": "stdout",
     "output_type": "stream",
     "text": [
      "number of seasons=1\n",
      "number of teams=32\n"
     ]
    }
   ],
   "source": [
    "seasons = [str(season) for season in range(2023,2024)]\n",
    "print(f'number of seasons={len(seasons)}')\n",
    "\n",
    "teams = ['crd','atl','rav','buf','car','chi','cin','cle','dal','den','det','gnb','htx','clt','jax','kan',\n",
    "         'rai','sdg','ram','mia','min','nwe','nor','nyg','nyj','phi','pit','sfo','sea','tam','oti','was']\n",
    "\n",
    "print(f'number of teams={len(teams)}')"
   ]
  },
  {
   "cell_type": "code",
   "execution_count": 3,
   "id": "9c0f1c0a-9d6f-4270-82be-f0cfcb3e3fb6",
   "metadata": {},
   "outputs": [
    {
     "name": "stdout",
     "output_type": "stream",
     "text": [
      "https://www.pro-football-reference.com/teams/crd/2023/gamelog/\n",
      "https://www.pro-football-reference.com/teams/atl/2023/gamelog/\n",
      "https://www.pro-football-reference.com/teams/rav/2023/gamelog/\n",
      "https://www.pro-football-reference.com/teams/buf/2023/gamelog/\n",
      "https://www.pro-football-reference.com/teams/car/2023/gamelog/\n",
      "https://www.pro-football-reference.com/teams/chi/2023/gamelog/\n",
      "https://www.pro-football-reference.com/teams/cin/2023/gamelog/\n",
      "https://www.pro-football-reference.com/teams/cle/2023/gamelog/\n",
      "https://www.pro-football-reference.com/teams/dal/2023/gamelog/\n",
      "https://www.pro-football-reference.com/teams/den/2023/gamelog/\n",
      "https://www.pro-football-reference.com/teams/det/2023/gamelog/\n",
      "https://www.pro-football-reference.com/teams/gnb/2023/gamelog/\n",
      "https://www.pro-football-reference.com/teams/htx/2023/gamelog/\n",
      "https://www.pro-football-reference.com/teams/clt/2023/gamelog/\n",
      "https://www.pro-football-reference.com/teams/jax/2023/gamelog/\n",
      "https://www.pro-football-reference.com/teams/kan/2023/gamelog/\n",
      "https://www.pro-football-reference.com/teams/rai/2023/gamelog/\n",
      "https://www.pro-football-reference.com/teams/sdg/2023/gamelog/\n",
      "https://www.pro-football-reference.com/teams/ram/2023/gamelog/\n",
      "https://www.pro-football-reference.com/teams/mia/2023/gamelog/\n",
      "https://www.pro-football-reference.com/teams/min/2023/gamelog/\n",
      "https://www.pro-football-reference.com/teams/nwe/2023/gamelog/\n",
      "https://www.pro-football-reference.com/teams/nor/2023/gamelog/\n",
      "https://www.pro-football-reference.com/teams/nyg/2023/gamelog/\n",
      "https://www.pro-football-reference.com/teams/nyj/2023/gamelog/\n",
      "https://www.pro-football-reference.com/teams/phi/2023/gamelog/\n",
      "https://www.pro-football-reference.com/teams/pit/2023/gamelog/\n",
      "https://www.pro-football-reference.com/teams/sfo/2023/gamelog/\n",
      "https://www.pro-football-reference.com/teams/sea/2023/gamelog/\n",
      "https://www.pro-football-reference.com/teams/tam/2023/gamelog/\n",
      "https://www.pro-football-reference.com/teams/oti/2023/gamelog/\n",
      "https://www.pro-football-reference.com/teams/was/2023/gamelog/\n"
     ]
    }
   ],
   "source": [
    "import random\n",
    "import time\n",
    "\n",
    "nfl_df = pd.DataFrame()\n",
    "\n",
    "for season in seasons:\n",
    "  for team in teams:\n",
    "    url = 'https://www.pro-football-reference.com/teams/' + team + '/' + season + '/gamelog/'\n",
    "    print(url)\n",
    "\n",
    "    # Go through and scrape the stats for each season and team\n",
    "    off_df = pd.read_html(url, header=1, attrs={'id':'gamelog' + season})[0]\n",
    "\n",
    "    def_df = pd.read_html(url, header=1, attrs={'id':'gamelog_opp' + season})[0]\n",
    "\n",
    "    team_df = pd.concat([off_df, def_df], axis=1)\n",
    "\n",
    "    team_df.insert(loc=0, column='Season', value=season)\n",
    "\n",
    "    team_df.insert(loc=2, column='Team', value=team.upper())\n",
    "\n",
    "    nfl_df = pd.concat([nfl_df, team_df], ignore_index=True)\n",
    "\n",
    "    # Put code to sleep to avoid scrapping problems\n",
    "    time.sleep(random.randint(7, 8))"
   ]
  },
  {
   "cell_type": "code",
   "execution_count": 4,
   "id": "43f24534-e05a-491d-9b22-53accc0d7d9e",
   "metadata": {},
   "outputs": [],
   "source": [
    "nfl_df.to_csv('nfl_games_2023.csv', index=False)"
   ]
  },
  {
   "cell_type": "code",
   "execution_count": 5,
   "id": "033e7e52-6265-4f90-a50c-06df6ef78516",
   "metadata": {},
   "outputs": [
    {
     "name": "stdout",
     "output_type": "stream",
     "text": [
      "(544, 74)\n"
     ]
    }
   ],
   "source": [
    "nfl_df = pd.read_csv('nfl_games_2023.csv')\n",
    "\n",
    "print(nfl_df.shape)"
   ]
  },
  {
   "cell_type": "code",
   "execution_count": 6,
   "id": "b579694b-950f-4192-acec-e82d28e13aa8",
   "metadata": {},
   "outputs": [
    {
     "name": "stdout",
     "output_type": "stream",
     "text": [
      "(544, 11)\n"
     ]
    }
   ],
   "source": [
    "nfl_pts_df = nfl_df.drop(nfl_df.columns[12:], axis=1)\n",
    "nfl_pts_df = nfl_pts_df.drop(nfl_pts_df.columns[5:6], axis=1)\n",
    "print(nfl_pts_df.shape)"
   ]
  },
  {
   "cell_type": "code",
   "execution_count": 7,
   "id": "c6674ca8-52cd-41df-b1d7-c0dcbf1f3704",
   "metadata": {},
   "outputs": [],
   "source": [
    "nfl_pts_df = nfl_pts_df.dropna(subset=['Tm']).reset_index(drop=True)"
   ]
  },
  {
   "cell_type": "code",
   "execution_count": 8,
   "id": "a871e247-34fc-4416-bd62-a6a31c12149d",
   "metadata": {},
   "outputs": [
    {
     "name": "stdout",
     "output_type": "stream",
     "text": [
      "(544, 11)\n"
     ]
    }
   ],
   "source": [
    "print(nfl_pts_df.shape)"
   ]
  },
  {
   "cell_type": "code",
   "execution_count": 9,
   "id": "f6b14137-35a8-4ed2-82cb-7959dbb4d417",
   "metadata": {},
   "outputs": [
    {
     "name": "stdout",
     "output_type": "stream",
     "text": [
      "<class 'pandas.core.frame.DataFrame'>\n",
      "RangeIndex: 544 entries, 0 to 543\n",
      "Data columns (total 11 columns):\n",
      " #   Column   Non-Null Count  Dtype \n",
      "---  ------   --------------  ----- \n",
      " 0   Season   544 non-null    int64 \n",
      " 1   Week     544 non-null    int64 \n",
      " 2   Team     544 non-null    object\n",
      " 3   Day      544 non-null    object\n",
      " 4   Date     544 non-null    object\n",
      " 5   Win      544 non-null    object\n",
      " 6   OT       26 non-null     object\n",
      " 7   Home     272 non-null    object\n",
      " 8   Opp      544 non-null    object\n",
      " 9   Off_Pts  544 non-null    int64 \n",
      " 10  Def_Pts  544 non-null    int64 \n",
      "dtypes: int64(4), object(7)\n",
      "memory usage: 46.9+ KB\n",
      "None\n"
     ]
    }
   ],
   "source": [
    "column_names = {'Unnamed: 4':'Win', 'Unnamed: 6':'Home', 'Tm':'Off_Pts', 'Opp.1':'Def_Pts'} \n",
    "nfl_pts_df = nfl_pts_df.rename(columns=column_names)\n",
    "print(nfl_pts_df.info(verbose=True))"
   ]
  },
  {
   "cell_type": "code",
   "execution_count": 10,
   "id": "0a6244f7-1799-4942-90ef-4d16f8e7879e",
   "metadata": {},
   "outputs": [],
   "source": [
    "team_dict = {'Arizona Cardinals':'CRD', 'Atlanta Falcons':'ATL', 'Baltimore Ravens':'RAV',\n",
    "             'Buffalo Bills':'BUF', 'Carolina Panthers':'CAR', 'Chicago Bears':'CHI',\n",
    "             'Cincinnati Bengals':'CIN', 'Cleveland Browns':'CLE', 'Dallas Cowboys':'DAL',\n",
    "             'Denver Broncos':'DEN', 'Detroit Lions':'DET', 'Green Bay Packers':'GNB',\n",
    "             'Houston Texans':'HTX', 'Indianapolis Colts':'CLT', 'Jacksonville Jaguars':'JAX',\n",
    "             'Kansas City Chiefs':'KAN', 'Los Angeles Chargers':'SDG', 'Los Angeles Rams':'RAM',\n",
    "             'Las Vegas Raiders':'RAI', 'Oakland Raiders':'RAI', 'Miami Dolphins':'MIA',\n",
    "             'Minnesota Vikings':'MIN', 'New England Patriots':'NWE', 'New Orleans Saints':'NOR',\n",
    "             'New York Giants':'NYG', 'New York Jets':'NYJ', 'Philadelphia Eagles':'PHI',\n",
    "             'Pittsburgh Steelers':'PIT', 'St. Louis Rams':'RAM', 'San Diego Chargers':'SDG',\n",
    "             'San Francisco 49ers':'SFO', 'Seattle Seahawks':'SEA', 'Tampa Bay Buccaneers':'TAM',\n",
    "             'Tennessee Titans':'OTI', 'Washington Commanders':'WAS', 'Washington Football Team':'WAS',\n",
    "             'Washington Redskins':'WAS'}\n",
    "nfl_pts_df = nfl_pts_df.replace({'Opp': team_dict})"
   ]
  },
  {
   "cell_type": "code",
   "execution_count": 11,
   "id": "6919df8e-2884-40c0-a3de-70f59aafbbd2",
   "metadata": {},
   "outputs": [],
   "source": [
    "nfl_pts_df['Win'] = nfl_pts_df['Win'].apply(lambda x: 1 if x == 'W' else 0)\n",
    "\n",
    "nfl_pts_df['OT'] = nfl_pts_df['OT'].apply(lambda x: 1 if x == 'OT' else 0)\n",
    "\n",
    "nfl_pts_df['Home'] = nfl_pts_df['Home'].apply(lambda x: 0 if x == '@' else 1)"
   ]
  },
  {
   "cell_type": "code",
   "execution_count": 13,
   "id": "2ac5ffa6-d081-4f17-b509-c5f0c35e1f30",
   "metadata": {},
   "outputs": [
    {
     "name": "stdout",
     "output_type": "stream",
     "text": [
      "     Season  Week Team  Day          Date  Win  OT  Home  Opp  Off_Pts  \\\n",
      "0      2023     1  CRD  Sun  September 10    0   0     0  WAS       16   \n",
      "1      2023     2  CRD  Sun  September 17    0   0     1  NYG       28   \n",
      "2      2023     3  CRD  Sun  September 24    1   0     1  DAL       28   \n",
      "3      2023     4  CRD  Sun     October 1    0   0     0  SFO       16   \n",
      "4      2023     5  CRD  Sun     October 8    0   0     1  CIN       20   \n",
      "..      ...   ...  ...  ...           ...  ...  ..   ...  ...      ...   \n",
      "539    2023    13  WAS  Sun    December 3    0   0     1  MIA       15   \n",
      "540    2023    15  WAS  Sun   December 17    0   0     0  RAM       20   \n",
      "541    2023    16  WAS  Sun   December 24    0   0     0  NYJ       28   \n",
      "542    2023    17  WAS  Sun   December 31    0   0     1  SFO       10   \n",
      "543    2023    18  WAS  Sun     January 7    0   0     1  DAL       10   \n",
      "\n",
      "     Def_Pts  \n",
      "0         20  \n",
      "1         31  \n",
      "2         16  \n",
      "3         35  \n",
      "4         34  \n",
      "..       ...  \n",
      "539       45  \n",
      "540       28  \n",
      "541       30  \n",
      "542       27  \n",
      "543       38  \n",
      "\n",
      "[544 rows x 11 columns]\n"
     ]
    }
   ],
   "source": [
    "print(nfl_pts_df)"
   ]
  },
  {
   "cell_type": "code",
   "execution_count": 14,
   "id": "0c3cae6b-a91e-4472-8bfe-280547c042a6",
   "metadata": {},
   "outputs": [],
   "source": [
    "nfl_pts_df.to_csv('nfl_pts_2023.csv', index=False)"
   ]
  },
  {
   "cell_type": "code",
   "execution_count": 15,
   "id": "58003dd5-890b-46bb-93ff-18d1ac83adf8",
   "metadata": {},
   "outputs": [
    {
     "name": "stdout",
     "output_type": "stream",
     "text": [
      "https://www.pro-football-reference.com/teams/crd/2023_lines.htm\n",
      "https://www.pro-football-reference.com/teams/atl/2023_lines.htm\n",
      "https://www.pro-football-reference.com/teams/rav/2023_lines.htm\n",
      "https://www.pro-football-reference.com/teams/buf/2023_lines.htm\n",
      "https://www.pro-football-reference.com/teams/car/2023_lines.htm\n",
      "https://www.pro-football-reference.com/teams/chi/2023_lines.htm\n",
      "https://www.pro-football-reference.com/teams/cin/2023_lines.htm\n",
      "https://www.pro-football-reference.com/teams/cle/2023_lines.htm\n",
      "https://www.pro-football-reference.com/teams/dal/2023_lines.htm\n",
      "https://www.pro-football-reference.com/teams/den/2023_lines.htm\n",
      "https://www.pro-football-reference.com/teams/det/2023_lines.htm\n",
      "https://www.pro-football-reference.com/teams/gnb/2023_lines.htm\n",
      "https://www.pro-football-reference.com/teams/htx/2023_lines.htm\n",
      "https://www.pro-football-reference.com/teams/clt/2023_lines.htm\n",
      "https://www.pro-football-reference.com/teams/jax/2023_lines.htm\n",
      "https://www.pro-football-reference.com/teams/kan/2023_lines.htm\n",
      "https://www.pro-football-reference.com/teams/rai/2023_lines.htm\n",
      "https://www.pro-football-reference.com/teams/sdg/2023_lines.htm\n",
      "https://www.pro-football-reference.com/teams/ram/2023_lines.htm\n",
      "https://www.pro-football-reference.com/teams/mia/2023_lines.htm\n",
      "https://www.pro-football-reference.com/teams/min/2023_lines.htm\n",
      "https://www.pro-football-reference.com/teams/nwe/2023_lines.htm\n",
      "https://www.pro-football-reference.com/teams/nor/2023_lines.htm\n",
      "https://www.pro-football-reference.com/teams/nyg/2023_lines.htm\n",
      "https://www.pro-football-reference.com/teams/nyj/2023_lines.htm\n",
      "https://www.pro-football-reference.com/teams/phi/2023_lines.htm\n",
      "https://www.pro-football-reference.com/teams/pit/2023_lines.htm\n",
      "https://www.pro-football-reference.com/teams/sfo/2023_lines.htm\n",
      "https://www.pro-football-reference.com/teams/sea/2023_lines.htm\n",
      "https://www.pro-football-reference.com/teams/tam/2023_lines.htm\n",
      "https://www.pro-football-reference.com/teams/oti/2023_lines.htm\n",
      "https://www.pro-football-reference.com/teams/was/2023_lines.htm\n",
      "    Season  G# Team   Opp  Spread  Over/Under    Result vs. Line OU Result\n",
      "0     2023   1  CRD  @WAS     6.5         NaN  L, 16-20      Won       Unk\n",
      "1     2023   2  CRD   NYG     4.5        36.5  L, 28-31      Won      Over\n",
      "2     2023   3  CRD   DAL    11.5        43.5  W, 28-16      Won      Over\n",
      "3     2023   4  CRD  @SFO    16.5        44.5  L, 16-35     Lost      Over\n",
      "4     2023   5  CRD   CIN     3.0        45.5  L, 20-34     Lost      Over\n",
      "..     ...  ..  ...   ...     ...         ...       ...      ...       ...\n",
      "565   2023  13  WAS   MIA     9.0        49.5  L, 15-45     Lost      Over\n",
      "566   2023  14  WAS  @LAR     6.5        50.5  L, 20-28     Lost     Under\n",
      "567   2023  15  WAS  @NYJ     3.0        37.5  L, 28-30      Won      Over\n",
      "568   2023  16  WAS   SFO    14.0        49.5  L, 10-27     Lost     Under\n",
      "569   2023  17  WAS   DAL    13.0        46.5  L, 10-38     Lost      Over\n",
      "\n",
      "[570 rows x 9 columns]\n"
     ]
    }
   ],
   "source": [
    "import random \n",
    "import time \n",
    "\n",
    "veg_df = pd.DataFrame()\n",
    "\n",
    "for season in seasons:\n",
    "    for team in teams:\n",
    "        url = 'https://www.pro-football-reference.com/teams/' + team + '/' + season + '_lines.htm'\n",
    "        print(url)\n",
    "\n",
    "        lines_df = pd.read_html(url, header=0, attrs={'id':'vegas_lines'})[0]\n",
    "\n",
    "        lines_df.insert(loc=0, column='Season', value=season)\n",
    "\n",
    "        lines_df.insert(loc=2, column='Team', value=team.upper())\n",
    "\n",
    "        veg_df = pd.concat([veg_df, lines_df], ignore_index=True)\n",
    "\n",
    "        time.sleep(random.randint(7, 8))\n",
    "\n",
    "print(veg_df)"
   ]
  },
  {
   "cell_type": "code",
   "execution_count": 16,
   "id": "8e3b95bf-927f-485d-8888-86a86421b659",
   "metadata": {},
   "outputs": [],
   "source": [
    "veg_df.to_csv('nfl_vegas_lines_2023.csv', index=False) "
   ]
  },
  {
   "cell_type": "code",
   "execution_count": 17,
   "id": "a70fb2f9-bc97-4736-a336-7e8de650de21",
   "metadata": {},
   "outputs": [
    {
     "name": "stdout",
     "output_type": "stream",
     "text": [
      "(570, 9)\n"
     ]
    }
   ],
   "source": [
    "veg_df = pd.read_csv('nfl_vegas_lines_2023.csv')\n",
    "\n",
    "print(veg_df.shape)"
   ]
  },
  {
   "cell_type": "code",
   "execution_count": 18,
   "id": "f3ec468b-caa9-422e-b741-a6ff1ad65d42",
   "metadata": {},
   "outputs": [
    {
     "name": "stdout",
     "output_type": "stream",
     "text": [
      "<class 'pandas.core.frame.DataFrame'>\n",
      "RangeIndex: 570 entries, 0 to 569\n",
      "Data columns (total 6 columns):\n",
      " #   Column      Non-Null Count  Dtype  \n",
      "---  ------      --------------  -----  \n",
      " 0   Season      570 non-null    int64  \n",
      " 1   G#          570 non-null    int64  \n",
      " 2   Team        570 non-null    object \n",
      " 3   Opp         570 non-null    object \n",
      " 4   Spread      570 non-null    float64\n",
      " 5   Over/Under  538 non-null    float64\n",
      "dtypes: float64(2), int64(2), object(2)\n",
      "memory usage: 26.8+ KB\n",
      "None\n"
     ]
    }
   ],
   "source": [
    "veg_df = veg_df.drop(veg_df.columns[6:], axis=1)\n",
    "print(veg_df.info(verbose=True))"
   ]
  },
  {
   "cell_type": "code",
   "execution_count": 20,
   "id": "7757ca6e-ff04-45d6-b4d9-46bc3db7024a",
   "metadata": {},
   "outputs": [
    {
     "name": "stdout",
     "output_type": "stream",
     "text": [
      "<class 'pandas.core.frame.DataFrame'>\n",
      "RangeIndex: 570 entries, 0 to 569\n",
      "Data columns (total 6 columns):\n",
      " #   Column  Non-Null Count  Dtype  \n",
      "---  ------  --------------  -----  \n",
      " 0   Season  570 non-null    int64  \n",
      " 1   G       570 non-null    int64  \n",
      " 2   Team    570 non-null    object \n",
      " 3   Opp     570 non-null    object \n",
      " 4   Spread  570 non-null    float64\n",
      " 5   Total   538 non-null    float64\n",
      "dtypes: float64(2), int64(2), object(2)\n",
      "memory usage: 26.8+ KB\n",
      "None\n"
     ]
    }
   ],
   "source": [
    "column_names = {'G#':'G', 'Over/Under':'Total'}\n",
    "veg_df = veg_df.rename(columns=column_names)\n",
    "print(veg_df.info(verbose=True))"
   ]
  },
  {
   "cell_type": "code",
   "execution_count": 21,
   "id": "cc74e451-11a0-416d-a8b9-63d8329fba06",
   "metadata": {},
   "outputs": [
    {
     "name": "stdout",
     "output_type": "stream",
     "text": [
      "(544, 6)\n"
     ]
    }
   ],
   "source": [
    "veg_df = veg_df.query('(Season <= 2020 and G < 17) or (Season >= 2021 and G < 18)')\n",
    "print(veg_df.shape)"
   ]
  },
  {
   "cell_type": "code",
   "execution_count": 22,
   "id": "fd658538-ea7b-4f4b-becf-bfa98323b9fe",
   "metadata": {},
   "outputs": [],
   "source": [
    "veg_df['Home'] = veg_df['Opp'].apply(lambda x: 0 if x[0] == '@' else 1)"
   ]
  },
  {
   "cell_type": "code",
   "execution_count": 23,
   "id": "51066b16-9731-4b29-80cd-bf0997dfc119",
   "metadata": {},
   "outputs": [],
   "source": [
    "veg_df['Opp'] = veg_df['Opp'].apply(lambda x: x[1:] if x[0] == '@' else x)\n",
    "\n",
    "abbr_dict = {'OAK':'RAI', 'LVR':'RAI', 'STL':'RAM', 'LAR':'RAM', 'LAC':'SDG',\n",
    "             'IND':'CLT', 'HOU':'HTX', 'BAL':'RAV', 'ARI':'CRD', 'TEN':'OTI'}\n",
    "veg_df = veg_df.replace({'Opp': abbr_dict})"
   ]
  },
  {
   "cell_type": "code",
   "execution_count": 24,
   "id": "20c7cf76-20b0-40aa-a6a3-5a2f3e44500f",
   "metadata": {},
   "outputs": [
    {
     "name": "stdout",
     "output_type": "stream",
     "text": [
      "(544, 11)\n",
      "(544, 7)\n"
     ]
    }
   ],
   "source": [
    "print(nfl_pts_df.shape)\n",
    "print(veg_df.shape)"
   ]
  },
  {
   "cell_type": "code",
   "execution_count": 26,
   "id": "9dbeb92d-4732-465f-a1db-11767383a777",
   "metadata": {},
   "outputs": [],
   "source": [
    "merged_df = pd.merge(nfl_pts_df, veg_df, on=['Season','Team','Opp','Home'])"
   ]
  },
  {
   "cell_type": "code",
   "execution_count": 27,
   "id": "9fab341a-00e5-4926-a60b-7a1471213e1f",
   "metadata": {},
   "outputs": [
    {
     "name": "stdout",
     "output_type": "stream",
     "text": [
      "(544, 14)\n"
     ]
    }
   ],
   "source": [
    "print(merged_df.shape)"
   ]
  },
  {
   "cell_type": "code",
   "execution_count": 28,
   "id": "e8855bf3-0bd1-4af6-be2e-700c1da25e50",
   "metadata": {},
   "outputs": [
    {
     "name": "stdout",
     "output_type": "stream",
     "text": [
      "     Season  Week Team  Day          Date  Win  OT  Home  Opp  Off_Pts  \\\n",
      "119    2023     1  CLE  Sun  September 10    1   0     1  CIN       24   \n",
      "120    2023     2  CLE  Mon  September 18    0   0     0  PIT       22   \n",
      "121    2023     3  CLE  Sun  September 24    1   0     1  OTI       27   \n",
      "122    2023     4  CLE  Sun     October 1    0   0     1  RAV        3   \n",
      "123    2023     6  CLE  Sun    October 15    1   0     1  SFO       19   \n",
      "124    2023     7  CLE  Sun    October 22    1   0     0  CLT       39   \n",
      "125    2023     8  CLE  Sun    October 29    0   0     0  SEA       20   \n",
      "126    2023     9  CLE  Sun    November 5    1   0     1  CRD       27   \n",
      "127    2023    10  CLE  Sun   November 12    1   0     0  RAV       33   \n",
      "128    2023    11  CLE  Sun   November 19    1   0     1  PIT       13   \n",
      "129    2023    12  CLE  Sun   November 26    0   0     0  DEN       12   \n",
      "130    2023    13  CLE  Sun    December 3    0   0     0  RAM       19   \n",
      "131    2023    14  CLE  Sun   December 10    1   0     1  JAX       31   \n",
      "132    2023    15  CLE  Sun   December 17    1   0     1  CHI       20   \n",
      "133    2023    16  CLE  Sun   December 24    1   0     0  HTX       36   \n",
      "134    2023    17  CLE  Thu   December 28    1   0     1  NYJ       37   \n",
      "135    2023    18  CLE  Sun     January 7    0   0     0  CIN       14   \n",
      "\n",
      "     Def_Pts   G  Spread  Total  \n",
      "119        3   1     1.5    NaN  \n",
      "120       26   2    -2.5   39.0  \n",
      "121        3   3    -3.5   38.0  \n",
      "122       28   4     2.5   41.0  \n",
      "123       17   5     9.5   35.5  \n",
      "124       38   6    -3.5   39.5  \n",
      "125       24   7     4.5   39.5  \n",
      "126        0   8   -13.5   38.5  \n",
      "127       31   9     6.0   38.5  \n",
      "128       10  10    -2.0   33.0  \n",
      "129       29  11     1.0   37.0  \n",
      "130       36  12     4.0   40.5  \n",
      "131       27  13    -2.5   34.0  \n",
      "132       17  14    -3.0   38.0  \n",
      "133       22  15    -3.0   40.0  \n",
      "134       20  16    -7.5   35.0  \n",
      "135       31  17     7.5   37.0  \n"
     ]
    }
   ],
   "source": [
    "print(merged_df.query('Season == 2023 and Team == \"CLE\"'))"
   ]
  },
  {
   "cell_type": "code",
   "execution_count": 29,
   "id": "e5037236-699d-4bce-bdf9-e6aba51bc4ff",
   "metadata": {},
   "outputs": [],
   "source": [
    "merged_df.to_csv('nfl_pts_and_vegas_2023.csv', index=False)"
   ]
  },
  {
   "cell_type": "code",
   "execution_count": 30,
   "id": "37751d87-afa3-4f18-a626-9e16450ae2a3",
   "metadata": {},
   "outputs": [
    {
     "name": "stdout",
     "output_type": "stream",
     "text": [
      "(4670, 14)\n",
      "(544, 14)\n"
     ]
    }
   ],
   "source": [
    "merged_2014_2022_df = pd.read_csv('nfl_pts_and-vegas.csv')\n",
    "merged_2023_df = pd.read_csv('nfl_pts_and_vegas_2023.csv')\n",
    "print(merged_2014_2022_df.shape)\n",
    "print(merged_2023_df.shape)"
   ]
  },
  {
   "cell_type": "code",
   "execution_count": 31,
   "id": "4fa40d78-aecb-4a8a-b804-b0718476be4f",
   "metadata": {},
   "outputs": [
    {
     "name": "stdout",
     "output_type": "stream",
     "text": [
      "      Season  Week Team  Day          Date  Win  OT  Home  Opp  Off_Pts  \\\n",
      "0       2014     1  CRD  Mon   September 8    1   0     1  SDG       18   \n",
      "1       2014     2  CRD  Sun  September 14    1   0     0  NYG       25   \n",
      "2       2014     3  CRD  Sun  September 21    1   0     1  SFO       23   \n",
      "3       2014     5  CRD  Sun     October 5    0   0     0  DEN       20   \n",
      "4       2014     6  CRD  Sun    October 12    1   0     1  WAS       30   \n",
      "...      ...   ...  ...  ...           ...  ...  ..   ...  ...      ...   \n",
      "5209    2023    13  WAS  Sun    December 3    0   0     1  MIA       15   \n",
      "5210    2023    15  WAS  Sun   December 17    0   0     0  RAM       20   \n",
      "5211    2023    16  WAS  Sun   December 24    0   0     0  NYJ       28   \n",
      "5212    2023    17  WAS  Sun   December 31    0   0     1  SFO       10   \n",
      "5213    2023    18  WAS  Sun     January 7    0   0     1  DAL       10   \n",
      "\n",
      "      Def_Pts   G  Spread  Total  \n",
      "0          17   1    -3.0   45.0  \n",
      "1          14   2    -2.0   42.5  \n",
      "2          14   3     3.0   42.0  \n",
      "3          41   4     7.5   48.0  \n",
      "4          20   5    -5.5   47.0  \n",
      "...       ...  ..     ...    ...  \n",
      "5209       45  13     9.0   49.5  \n",
      "5210       28  14     6.5   50.5  \n",
      "5211       30  15     3.0   37.5  \n",
      "5212       27  16    14.0   49.5  \n",
      "5213       38  17    13.0   46.5  \n",
      "\n",
      "[5214 rows x 14 columns]\n"
     ]
    }
   ],
   "source": [
    "merged_total_df = pd.concat([merged_2014_2022_df, merged_2023_df], ignore_index=True)\n",
    "print(merged_total_df)"
   ]
  },
  {
   "cell_type": "code",
   "execution_count": 32,
   "id": "1a5c0b76-6aa5-4ae5-805d-9e741d04a8c0",
   "metadata": {},
   "outputs": [],
   "source": [
    "merged_total_df.to_csv('nfl_pts_and_vegas_2014-2023.csv', index=False)"
   ]
  },
  {
   "cell_type": "code",
   "execution_count": 33,
   "id": "e8b941dc-2d21-4d82-9cee-ecde4d8d227f",
   "metadata": {},
   "outputs": [
    {
     "name": "stdout",
     "output_type": "stream",
     "text": [
      "(5214, 14)\n"
     ]
    }
   ],
   "source": [
    "nfl_pts_veg_df = pd.read_csv('nfl_pts_and_vegas_2014-2023.csv')\n",
    "\n",
    "print(nfl_pts_veg_df.shape)"
   ]
  },
  {
   "cell_type": "code",
   "execution_count": 34,
   "id": "98166f78-f78e-4371-befd-84f5289a6eb7",
   "metadata": {},
   "outputs": [
    {
     "name": "stdout",
     "output_type": "stream",
     "text": [
      "(5214, 15)\n"
     ]
    }
   ],
   "source": [
    "nfl_pts_veg_df['Actual_Total'] = nfl_pts_veg_df['Off_Pts'] + nfl_pts_veg_df['Def_Pts']\n",
    "\n",
    "print(nfl_pts_veg_df.shape)"
   ]
  },
  {
   "cell_type": "code",
   "execution_count": 38,
   "id": "6de541ba-eebd-49b4-b2f1-e1b701ffb6c4",
   "metadata": {},
   "outputs": [
    {
     "name": "stdout",
     "output_type": "stream",
     "text": [
      "      Week Team  Opp  Week_Min  Week_Max\n",
      "5182     3  OTI  CLE         3         3\n",
      "5183     4  OTI  CIN         4         4\n",
      "5184     5  OTI  CLT         5        13\n",
      "5185     6  OTI  RAV         6         6\n",
      "5186     8  OTI  ATL         8         8\n",
      "5187     9  OTI  PIT         9         9\n",
      "5188    10  OTI  TAM        10        10\n",
      "5189    11  OTI  JAX        11        18\n",
      "5190    12  OTI  CAR        12        12\n",
      "5191    13  OTI  CLT         5        13\n",
      "5192    14  OTI  MIA        14        14\n",
      "5193    15  OTI  HTX        15        17\n",
      "5194    16  OTI  SEA        16        16\n",
      "5195    17  OTI  HTX        15        17\n",
      "5196    18  OTI  JAX        11        18\n",
      "5197     1  WAS  CRD         1         1\n",
      "5198     2  WAS  DEN         2         2\n",
      "5199     3  WAS  BUF         3         3\n",
      "5200     4  WAS  PHI         4         8\n",
      "5201     5  WAS  CHI         5         5\n",
      "5202     6  WAS  ATL         6         6\n",
      "5203     7  WAS  NYG         7        11\n",
      "5204     8  WAS  PHI         4         8\n",
      "5205     9  WAS  NWE         9         9\n",
      "5206    10  WAS  SEA        10        10\n",
      "5207    11  WAS  NYG         7        11\n",
      "5208    12  WAS  DAL        12        18\n",
      "5209    13  WAS  MIA        13        13\n",
      "5210    15  WAS  RAM        15        15\n",
      "5211    16  WAS  NYJ        16        16\n",
      "5212    17  WAS  SFO        17        17\n",
      "5213    18  WAS  DAL        12        18\n",
      "      Season  Week Team  Day          Date  Win  OT  Home  Opp  Off_Pts  \\\n",
      "5182    2023     3  OTI  Sun  September 24    0   0     0  CLE        3   \n",
      "5183    2023     4  OTI  Sun     October 1    1   0     1  CIN       27   \n",
      "5184    2023     5  OTI  Sun     October 8    0   0     0  CLT       16   \n",
      "5185    2023     6  OTI  Sun    October 15    0   0     1  RAV       16   \n",
      "5186    2023     8  OTI  Sun    October 29    1   0     1  ATL       28   \n",
      "5187    2023     9  OTI  Thu    November 2    0   0     0  PIT       16   \n",
      "5188    2023    10  OTI  Sun   November 12    0   0     0  TAM        6   \n",
      "5189    2023    11  OTI  Sun   November 19    0   0     0  JAX       14   \n",
      "5190    2023    12  OTI  Sun   November 26    1   0     1  CAR       17   \n",
      "5191    2023    13  OTI  Sun    December 3    0   1     1  CLT       28   \n",
      "5192    2023    14  OTI  Mon   December 11    1   0     0  MIA       28   \n",
      "5193    2023    15  OTI  Sun   December 17    0   1     1  HTX       16   \n",
      "5194    2023    16  OTI  Sun   December 24    0   0     1  SEA       17   \n",
      "5195    2023    17  OTI  Sun   December 31    0   0     0  HTX        3   \n",
      "5196    2023    18  OTI  Sun     January 7    1   0     1  JAX       28   \n",
      "5197    2023     1  WAS  Sun  September 10    1   0     1  CRD       20   \n",
      "5198    2023     2  WAS  Sun  September 17    1   0     0  DEN       35   \n",
      "5199    2023     3  WAS  Sun  September 24    0   0     1  BUF        3   \n",
      "5200    2023     4  WAS  Sun     October 1    0   1     0  PHI       31   \n",
      "5201    2023     5  WAS  Thu     October 5    0   0     1  CHI       20   \n",
      "5202    2023     6  WAS  Sun    October 15    1   0     0  ATL       24   \n",
      "5203    2023     7  WAS  Sun    October 22    0   0     0  NYG        7   \n",
      "5204    2023     8  WAS  Sun    October 29    0   0     1  PHI       31   \n",
      "5205    2023     9  WAS  Sun    November 5    1   0     0  NWE       20   \n",
      "5206    2023    10  WAS  Sun   November 12    0   0     0  SEA       26   \n",
      "5207    2023    11  WAS  Sun   November 19    0   0     1  NYG       19   \n",
      "5208    2023    12  WAS  Thu   November 23    0   0     0  DAL       10   \n",
      "5209    2023    13  WAS  Sun    December 3    0   0     1  MIA       15   \n",
      "5210    2023    15  WAS  Sun   December 17    0   0     0  RAM       20   \n",
      "5211    2023    16  WAS  Sun   December 24    0   0     0  NYJ       28   \n",
      "5212    2023    17  WAS  Sun   December 31    0   0     1  SFO       10   \n",
      "5213    2023    18  WAS  Sun     January 7    0   0     1  DAL       10   \n",
      "\n",
      "      Def_Pts   G  Spread  Total  Actual_Total  Div_Game  \n",
      "5182       27   3     3.5   38.0            30         0  \n",
      "5183        3   4     2.5   41.5            30         0  \n",
      "5184       23   5    -2.5   43.5            39         1  \n",
      "5185       24   6     5.0   42.5            40         0  \n",
      "5186       23   7     2.5   35.5            51         0  \n",
      "5187       20   8     3.0   36.5            36         0  \n",
      "5188       20   9     2.5   38.5            26         0  \n",
      "5189       34  10     6.5   40.0            48         1  \n",
      "5190       10  11    -3.5   36.5            27         0  \n",
      "5191       31  12     1.0   42.0            59         2  \n",
      "5192       27  13    13.5   46.5            55         0  \n",
      "5193       19  14    -3.0   37.0            35         1  \n",
      "5194       20  15     3.5   41.5            37         0  \n",
      "5195       26  16     4.0   44.0            29         2  \n",
      "5196       20  17     4.0   41.5            48         2  \n",
      "5197       16   1    -6.5    NaN            36         0  \n",
      "5198       33   2     4.0   38.5            68         0  \n",
      "5199       37   3     4.5   43.5            40         0  \n",
      "5200       34   4     9.5   43.0            65         1  \n",
      "5201       40   5    -6.0   44.5            60         0  \n",
      "5202       16   6     1.5   41.5            40         0  \n",
      "5203       14   7    -3.0   36.5            21         1  \n",
      "5204       38   8     6.5   42.5            69         2  \n",
      "5205       17   9     2.5   40.5            37         0  \n",
      "5206       29  10     5.5   44.5            55         0  \n",
      "5207       31  11    -9.0   38.0            50         2  \n",
      "5208       45  12    13.5   48.5            55         1  \n",
      "5209       45  13     9.0   49.5            60         0  \n",
      "5210       28  14     6.5   50.5            48         0  \n",
      "5211       30  15     3.0   37.5            58         0  \n",
      "5212       27  16    14.0   49.5            37         0  \n",
      "5213       38  17    13.0   46.5            48         2  \n",
      "<class 'pandas.core.frame.DataFrame'>\n",
      "RangeIndex: 5214 entries, 0 to 5213\n",
      "Data columns (total 16 columns):\n",
      " #   Column        Non-Null Count  Dtype  \n",
      "---  ------        --------------  -----  \n",
      " 0   Season        5214 non-null   int64  \n",
      " 1   Week          5214 non-null   int64  \n",
      " 2   Team          5214 non-null   object \n",
      " 3   Day           5214 non-null   object \n",
      " 4   Date          5214 non-null   object \n",
      " 5   Win           5214 non-null   int64  \n",
      " 6   OT            5214 non-null   int64  \n",
      " 7   Home          5214 non-null   int64  \n",
      " 8   Opp           5214 non-null   object \n",
      " 9   Off_Pts       5214 non-null   int64  \n",
      " 10  Def_Pts       5214 non-null   int64  \n",
      " 11  G             5214 non-null   int64  \n",
      " 12  Spread        5214 non-null   float64\n",
      " 13  Total         5182 non-null   float64\n",
      " 14  Actual_Total  5214 non-null   int64  \n",
      " 15  Div_Game      5214 non-null   int64  \n",
      "dtypes: float64(2), int64(10), object(4)\n",
      "memory usage: 651.9+ KB\n",
      "None\n"
     ]
    }
   ],
   "source": [
    "div_dict = {'buf': 'AFCE','mia': 'AFCE','nwe': 'AFCE','nyj': 'AFCE',\n",
    "            'cin': 'AFCN','cle': 'AFCN','pit': 'AFCN','rav': 'AFCN',\n",
    "            'htx': 'AFCS','clt': 'AFCS','jax': 'AFCS','oti': 'AFCS',\n",
    "            'den': 'AFCW','kan': 'AFCW','rai': 'AFCW','sdg': 'AFCW',\n",
    "            'dal': 'NFCE','nyg': 'NFCE','phi': 'NFCE','was': 'NFCE',\n",
    "            'chi': 'NFCN','det': 'NFCN','gnb': 'NFCN','min': 'NFCN',\n",
    "            'atl': 'NFCS','car': 'NFCS','nor': 'NFCS','tam': 'NFCS',\n",
    "            'crd': 'NFCW','ram': 'NFCW','sfo': 'NFCW','sea': 'NFCW'}\n",
    "\n",
    "nfl_pts_veg_df['Week_Min'] = nfl_pts_veg_df.groupby(['Season','Team','Opp'])['Week'].transform('min')\n",
    "nfl_pts_veg_df['Week_Max'] = nfl_pts_veg_df.groupby(['Season','Team','Opp'])['Week'].transform('max')\n",
    "print(nfl_pts_veg_df[['Week','Team','Opp','Week_Min','Week_Max']].tail(32))\n",
    "\n",
    "def calc_div_col(row):\n",
    "    if div_dict[row['Team'].lower()] != div_dict[row['Opp'].lower()]:\n",
    "        return 0\n",
    "    if row['Week_Min'] == row['Week_Max']:\n",
    "        return 1\n",
    "    elif row['Week'] == row['Week_Min']:\n",
    "        return 1\n",
    "    else:\n",
    "        return 2\n",
    "\n",
    "nfl_pts_veg_df['Div_Game'] = nfl_pts_veg_df.apply(calc_div_col, axis=1)\n",
    "\n",
    "nfl_pts_veg_df.pop('Week_Min')\n",
    "nfl_pts_veg_df.pop('Week_Max')\n",
    "\n",
    "print(nfl_pts_veg_df.tail(32))\n",
    "print(nfl_pts_veg_df.info(verbose=True)) "
   ]
  },
  {
   "cell_type": "code",
   "execution_count": 39,
   "id": "b6ecb41c-76c6-4bdb-a474-5ee038f9fd53",
   "metadata": {},
   "outputs": [],
   "source": [
    "nfl_pts_veg_df.to_csv('nfl_pts_and_vegas_2014-2023.csv', index=False)"
   ]
  },
  {
   "cell_type": "code",
   "execution_count": 2,
   "id": "96aea631-1219-4f71-80f6-79ee09d4c558",
   "metadata": {
    "scrolled": true
   },
   "outputs": [
    {
     "ename": "NameError",
     "evalue": "name 'nfl_pts_veg_df' is not defined",
     "output_type": "error",
     "traceback": [
      "\u001b[1;31m---------------------------------------------------------------------------\u001b[0m",
      "\u001b[1;31mNameError\u001b[0m                                 Traceback (most recent call last)",
      "Cell \u001b[1;32mIn[2], line 1\u001b[0m\n\u001b[1;32m----> 1\u001b[0m \u001b[43mnfl_pts_veg_df\u001b[49m[\u001b[38;5;124m'\u001b[39m\u001b[38;5;124mDiv_Game\u001b[39m\u001b[38;5;124m'\u001b[39m]\u001b[38;5;241m.\u001b[39mvalue_counts()\n",
      "\u001b[1;31mNameError\u001b[0m: name 'nfl_pts_veg_df' is not defined"
     ]
    }
   ],
   "source": [
    "nfl_pts_veg_df['Div_Game'].value_counts()"
   ]
  },
  {
   "cell_type": "code",
   "execution_count": 1,
   "id": "aa1c1783-2edf-4163-bda9-ce33b9f25224",
   "metadata": {},
   "outputs": [],
   "source": [
    "import numpy as np\n",
    "import pandas as pd\n",
    "import matplotlib.pyplot as plt\n",
    "\n",
    "from sklearn.neighbors import KNeighborsClassifier, NearestNeighbors, LocalOutlierFactor\n",
    "\n",
    "from sklearn.metrics import accuracy_score, classification_report\n",
    "from sklearn.metrics import confusion_matrix, ConfusionMatrixDisplay\n",
    "from sklearn.pipeline import Pipeline\n",
    "from sklearn.preprocessing import StandardScaler"
   ]
  },
  {
   "cell_type": "code",
   "execution_count": 2,
   "id": "47b88d92-b5ad-4a55-9113-77e954b4f4dc",
   "metadata": {},
   "outputs": [
    {
     "name": "stdout",
     "output_type": "stream",
     "text": [
      "<class 'pandas.core.frame.DataFrame'>\n",
      "RangeIndex: 5214 entries, 0 to 5213\n",
      "Data columns (total 16 columns):\n",
      " #   Column        Non-Null Count  Dtype  \n",
      "---  ------        --------------  -----  \n",
      " 0   Season        5214 non-null   int64  \n",
      " 1   Week          5214 non-null   int64  \n",
      " 2   Team          5214 non-null   object \n",
      " 3   Day           5214 non-null   object \n",
      " 4   Date          5214 non-null   object \n",
      " 5   Win           5214 non-null   int64  \n",
      " 6   OT            5214 non-null   int64  \n",
      " 7   Home          5214 non-null   int64  \n",
      " 8   Opp           5214 non-null   object \n",
      " 9   Off_Pts       5214 non-null   int64  \n",
      " 10  Def_Pts       5214 non-null   int64  \n",
      " 11  G             5214 non-null   int64  \n",
      " 12  Spread        5214 non-null   float64\n",
      " 13  Total         5214 non-null   float64\n",
      " 14  Actual_Total  5214 non-null   int64  \n",
      " 15  Div_Game      5214 non-null   int64  \n",
      "dtypes: float64(2), int64(10), object(4)\n",
      "memory usage: 651.9+ KB\n",
      "None\n"
     ]
    }
   ],
   "source": [
    "nfl_df = pd.read_csv('nfl_pts_and_vegas_2014-2023.csv')\n",
    "print(nfl_df.info())"
   ]
  },
  {
   "cell_type": "code",
   "execution_count": 3,
   "id": "94f3bfe5-68e9-41c7-a83e-1e3cec9cafb6",
   "metadata": {},
   "outputs": [
    {
     "name": "stdout",
     "output_type": "stream",
     "text": [
      "      Season  Week Team  Day    Date  Win  OT  Home  Opp  Off_Pts  Def_Pts  \\\n",
      "0       2014     1  CRD  Mon   8-Sep    1   0     1  SDG       18       17   \n",
      "1       2014     2  CRD  Sun  14-Sep    1   0     0  NYG       25       14   \n",
      "2       2014     3  CRD  Sun  21-Sep    1   0     1  SFO       23       14   \n",
      "3       2014     5  CRD  Sun   5-Oct    0   0     0  DEN       20       41   \n",
      "4       2014     6  CRD  Sun  12-Oct    1   0     1  WAS       30       20   \n",
      "...      ...   ...  ...  ...     ...  ...  ..   ...  ...      ...      ...   \n",
      "5209    2023    13  WAS  Sun   3-Dec    0   0     1  MIA       15       45   \n",
      "5210    2023    15  WAS  Sun  17-Dec    0   0     0  RAM       20       28   \n",
      "5211    2023    16  WAS  Sun  24-Dec    0   0     0  NYJ       28       30   \n",
      "5212    2023    17  WAS  Sun  31-Dec    0   0     1  SFO       10       27   \n",
      "5213    2023    18  WAS  Sun   7-Jan    0   0     1  DAL       10       38   \n",
      "\n",
      "       G  Spread  Total  Actual_Total  Div_Game  Over  Under  Push  \n",
      "0      1    -3.0   45.0            35         0     0      1     0  \n",
      "1      2    -2.0   42.5            39         0     0      1     0  \n",
      "2      3     3.0   42.0            37         1     0      1     0  \n",
      "3      4     7.5   48.0            61         0     1      0     0  \n",
      "4      5    -5.5   47.0            50         0     1      0     0  \n",
      "...   ..     ...    ...           ...       ...   ...    ...   ...  \n",
      "5209  13     9.0   49.5            60         0     1      0     0  \n",
      "5210  14     6.5   50.5            48         0     0      1     0  \n",
      "5211  15     3.0   37.5            58         0     1      0     0  \n",
      "5212  16    14.0   49.5            37         0     0      1     0  \n",
      "5213  17    13.0   46.5            48         2     1      0     0  \n",
      "\n",
      "[5214 rows x 19 columns]\n"
     ]
    }
   ],
   "source": [
    "nfl_df['Over'] = np.where(nfl_df['Actual_Total'] > nfl_df['Total'], 1, 0)\n",
    "nfl_df['Under'] = np.where(nfl_df['Actual_Total'] < nfl_df['Total'], 1, 0)\n",
    "nfl_df['Push'] = np.where(nfl_df['Actual_Total'] == nfl_df['Total'], 1, 0)\n",
    "print(nfl_df)"
   ]
  },
  {
   "cell_type": "code",
   "execution_count": 4,
   "id": "492736b2-41ea-498b-9f66-d71eb24feb9e",
   "metadata": {},
   "outputs": [
    {
     "name": "stdout",
     "output_type": "stream",
     "text": [
      "      Season  Week Team  Day   Date  Win  OT  Home  Opp  Off_Pts  Def_Pts   G  \\\n",
      "0       2014     1  CRD  Mon  8-Sep    1   0     1  SDG       18       17   1   \n",
      "1       2014     1  ATL  Sun  7-Sep    1   1     1  NOR       37       34   1   \n",
      "2       2014     1  RAV  Sun  7-Sep    0   0     1  CIN       16       23   1   \n",
      "3       2014     1  BUF  Sun  7-Sep    1   1     0  CHI       23       20   1   \n",
      "4       2014     1  CAR  Sun  7-Sep    1   0     0  TAM       20       14   1   \n",
      "...      ...   ...  ...  ...    ...  ...  ..   ...  ...      ...      ...  ..   \n",
      "5209    2023    18  SFO  Sun  7-Jan    0   0     1  RAM       20       21  17   \n",
      "5210    2023    18  SEA  Sun  7-Jan    1   0     0  CRD       21       20  17   \n",
      "5211    2023    18  TAM  Sun  7-Jan    1   0     0  CAR        9        0  17   \n",
      "5212    2023    18  OTI  Sun  7-Jan    1   0     1  JAX       28       20  17   \n",
      "5213    2023    18  WAS  Sun  7-Jan    0   0     1  DAL       10       38  17   \n",
      "\n",
      "      Spread  Total  Actual_Total  Div_Game  Over  Under  Push  \n",
      "0       -3.0   45.0            35         0     0      1     0  \n",
      "1        3.0   51.5            71         1     1      0     0  \n",
      "2       -2.0   43.0            39         1     0      1     0  \n",
      "3        7.0   47.0            43         0     0      1     0  \n",
      "4        2.5   39.5            34         1     0      1     0  \n",
      "...      ...    ...           ...       ...   ...    ...   ...  \n",
      "5209    -4.0   41.0            41         2     0      0     1  \n",
      "5210    -3.0   47.5            41         2     0      1     0  \n",
      "5211    -4.0   37.0             9         2     0      1     0  \n",
      "5212     4.0   41.5            48         2     1      0     0  \n",
      "5213    13.0   46.5            48         2     1      0     0  \n",
      "\n",
      "[5214 rows x 19 columns]\n"
     ]
    }
   ],
   "source": [
    "nfl_df = nfl_df.sort_values(by=['Season', 'Week']). reset_index(drop=True)\n",
    "print(nfl_df)"
   ]
  },
  {
   "cell_type": "code",
   "execution_count": 5,
   "id": "9e397441-baa4-43e6-b2aa-b7ae611d96c2",
   "metadata": {},
   "outputs": [
    {
     "name": "stdout",
     "output_type": "stream",
     "text": [
      "\n",
      "Results for 2021:\n",
      " Week  1: accuracy score=56.25%\n",
      " Week  2: accuracy score=31.25%\n",
      " Week  3: accuracy score=43.75%\n",
      " Week  4: accuracy score=43.75%\n",
      " Week  5: accuracy score=56.25%\n",
      " Week  6: accuracy score=53.85%\n",
      " Week  7: accuracy score=58.33%\n",
      " Week  8: accuracy score=53.33%\n",
      " Week  9: accuracy score=69.23%\n",
      " Week 10: accuracy score=61.54%\n",
      " Week 11: accuracy score=53.33%\n",
      " Week 12: accuracy score=46.67%\n",
      " Week 13: accuracy score=21.43%\n",
      " Week 14: accuracy score=53.85%\n",
      " Week 15: accuracy score=25.00%\n",
      " Week 16: accuracy score=75.00%\n",
      " Week 17: accuracy score=60.00%\n",
      " Week 18: accuracy score=60.00%\n",
      "Season 2021: Total accuracy score=50.94%\n",
      "\n",
      "Classification Report for 2021:\n",
      "              precision    recall  f1-score   support\n",
      "\n",
      "        Over       0.48      0.47      0.47       124\n",
      "       Under       0.54      0.55      0.54       141\n",
      "\n",
      "    accuracy                           0.51       265\n",
      "   macro avg       0.51      0.51      0.51       265\n",
      "weighted avg       0.51      0.51      0.51       265\n",
      "\n"
     ]
    },
    {
     "data": {
      "image/png": "[encoded data removed]",
      "text/plain": [
       "<Figure size 640x480 with 2 Axes>"
      ]
     },
     "metadata": {},
     "output_type": "display_data"
    },
    {
     "name": "stdout",
     "output_type": "stream",
     "text": [
      "\n",
      "Results for 2022:\n",
      " Week  1: accuracy score=68.75%\n",
      " Week  2: accuracy score=31.25%\n",
      " Week  3: accuracy score=66.67%\n",
      " Week  4: accuracy score=50.00%\n",
      " Week  5: accuracy score=43.75%\n",
      " Week  6: accuracy score=64.29%\n",
      " Week  7: accuracy score=61.54%\n",
      " Week  8: accuracy score=50.00%\n",
      " Week  9: accuracy score=46.15%\n",
      " Week 10: accuracy score=42.86%\n",
      " Week 11: accuracy score=35.71%\n",
      " Week 12: accuracy score=56.25%\n",
      " Week 13: accuracy score=46.67%\n",
      " Week 14: accuracy score=61.54%\n",
      " Week 15: accuracy score=43.75%\n",
      " Week 16: accuracy score=42.86%\n",
      " Week 17: accuracy score=69.23%\n",
      " Week 18: accuracy score=43.75%\n",
      "Season 2022: Total accuracy score=51.14%\n",
      "\n",
      "Classification Report for 2022:\n",
      "              precision    recall  f1-score   support\n",
      "\n",
      "        Over       0.45      0.45      0.45       118\n",
      "       Under       0.56      0.56      0.56       146\n",
      "\n",
      "    accuracy                           0.51       264\n",
      "   macro avg       0.51      0.51      0.51       264\n",
      "weighted avg       0.51      0.51      0.51       264\n",
      "\n"
     ]
    },
    {
     "data": {
      "image/png": "[encoded data removed]",
      "text/plain": [
       "<Figure size 640x480 with 2 Axes>"
      ]
     },
     "metadata": {},
     "output_type": "display_data"
    },
    {
     "name": "stdout",
     "output_type": "stream",
     "text": [
      "\n",
      "Results for 2023:\n",
      " Week  1: accuracy score=80.00%\n",
      " Week  2: accuracy score=68.75%\n",
      " Week  3: accuracy score=68.75%\n",
      " Week  4: accuracy score=75.00%\n",
      " Week  5: accuracy score=50.00%\n",
      " Week  6: accuracy score=50.00%\n",
      " Week  7: accuracy score=69.23%\n",
      " Week  8: accuracy score=53.33%\n",
      " Week  9: accuracy score=71.43%\n",
      " Week 10: accuracy score=35.71%\n",
      " Week 11: accuracy score=50.00%\n",
      " Week 12: accuracy score=75.00%\n",
      " Week 13: accuracy score=50.00%\n",
      " Week 14: accuracy score=41.67%\n",
      " Week 15: accuracy score=61.54%\n",
      " Week 16: accuracy score=42.86%\n",
      " Week 17: accuracy score=50.00%\n",
      " Week 18: accuracy score=64.29%\n",
      "Season 2023: Total accuracy score=59.52%\n",
      "\n",
      "Classification Report for 2023:\n",
      "              precision    recall  f1-score   support\n",
      "\n",
      "        Over       0.55      0.54      0.54       114\n",
      "       Under       0.63      0.64      0.64       138\n",
      "\n",
      "    accuracy                           0.60       252\n",
      "   macro avg       0.59      0.59      0.59       252\n",
      "weighted avg       0.59      0.60      0.59       252\n",
      "\n"
     ]
    },
    {
     "data": {
      "image/png": "[encoded data removed]",
      "text/plain": [
       "<Figure size 640x480 with 2 Axes>"
      ]
     },
     "metadata": {},
     "output_type": "display_data"
    }
   ],
   "source": [
    "df = nfl_df.query('Home == 1').reset_index(drop=True)\n",
    "\n",
    "features = ['Spread', 'Total']\n",
    "target = 'Under'\n",
    "\n",
    "for season in [2021, 2022, 2023]:\n",
    "    print(f'\\nResults for {season}:')\n",
    "\n",
    "    y_preds = []\n",
    "    y_trues = []\n",
    "\n",
    "    for week in range(1, 19):\n",
    "\n",
    "        print(f' Week {week:>2}:', end=' ')\n",
    "\n",
    "        train_df = df.query('Season < @season or (Season == @season and Week < @week)')\n",
    "\n",
    "        test_df = df.query('Season == @season and Week == @week and Actual_Total != Total')\n",
    "\n",
    "        X_train = train_df[features]\n",
    "        y_train = train_df[target]\n",
    "        X_test = test_df[features]\n",
    "        y_test = test_df[target]\n",
    "\n",
    "        model = KNeighborsClassifier(n_neighbors=7)\n",
    "\n",
    "        pipe = Pipeline([\n",
    "            ('scaler', StandardScaler()),\n",
    "            ('model', KNeighborsClassifier(n_neighbors=7))\n",
    "        ])\n",
    "\n",
    "        clf = pipe.fit(X_train, y_train)\n",
    "\n",
    "        pipe2 = Pipeline([\n",
    "            ('scaler', StandardScaler()),\n",
    "            ('lof', LocalOutlierFactor(novelty=True))\n",
    "        ])\n",
    "        pipe2.fit(X_train)\n",
    "        y_test_novelty = pipe2.predict(X_test)\n",
    "\n",
    "        mask = [y == 1 for y in y_test_novelty]\n",
    "        X_test = X_test[mask]\n",
    "        y_test = y_test[mask]\n",
    "        \n",
    "        y_pred = clf.predict(X_test)\n",
    "\n",
    "        if week == 1:\n",
    "            y_test = test_df[target]\n",
    "            y_pred = [1] * len(y_test)\n",
    "        y_true = y_test\n",
    "\n",
    "        print(f'accuracy score={accuracy_score(y_true, y_pred):.2%}')\n",
    "\n",
    "        y_preds += list(y_pred)\n",
    "        y_trues += list(y_true)\n",
    "\n",
    "    print(f'Season {season}: Total accuracy score={accuracy_score(y_trues, y_preds):.2%}')\n",
    "    print(f'\\nClassification Report for {season}:')\n",
    "    print(classification_report(y_trues, y_preds, target_names=['Over', 'Under']))\n",
    "\n",
    "    cm = confusion_matrix(y_trues, y_preds)\n",
    "    display = ConfusionMatrixDisplay(confusion_matrix=cm, display_labels=['Over', 'Under'])\n",
    "    display.plot()\n",
    "    plt.grid(False)\n",
    "    plt.show()"
   ]
  },
  {
   "cell_type": "code",
   "execution_count": 6,
   "id": "d35bd9b5-ec90-4f67-8e6b-5a9dc5304504",
   "metadata": {},
   "outputs": [
    {
     "name": "stdout",
     "output_type": "stream",
     "text": [
      "\n",
      "Results for 2021:\n",
      " Week  1: MAE=0.17\n",
      " Week  2: MAE=0.18\n",
      " Week  3: MAE=0.26\n",
      " Week  4: MAE=0.20\n",
      " Week  5: MAE=0.28\n",
      " Week  6: MAE=0.15\n",
      " Week  7: MAE=0.35\n",
      " Week  8: MAE=0.35\n",
      " Week  9: MAE=0.20\n",
      " Week 10: MAE=0.20\n",
      " Week 11: MAE=0.19\n",
      " Week 12: MAE=0.18\n",
      " Week 13: MAE=0.24\n",
      " Week 14: MAE=0.23\n",
      " Week 15: MAE=0.21\n",
      " Week 16: MAE=0.19\n",
      " Week 17: MAE=0.21\n",
      " Week 18: MAE=0.34\n",
      "Season 2021: Total Mean Absolute Error=0.23\n",
      "Total Mean Squared Error=0.11\n",
      "\n"
     ]
    },
    {
     "data": {
      "image/png": "[encoded data removed]",
      "text/plain": [
       "<Figure size 640x480 with 1 Axes>"
      ]
     },
     "metadata": {},
     "output_type": "display_data"
    },
    {
     "name": "stdout",
     "output_type": "stream",
     "text": [
      "\n",
      "Results for 2022:\n",
      " Week  1: MAE=0.12\n",
      " Week  2: MAE=0.15\n",
      " Week  3: MAE=0.22\n",
      " Week  4: MAE=0.05\n",
      " Week  5: MAE=0.19\n",
      " Week  6: MAE=0.15\n",
      " Week  7: MAE=0.28\n",
      " Week  8: MAE=0.13\n",
      " Week  9: MAE=0.16\n",
      " Week 10: MAE=0.17\n",
      " Week 11: MAE=0.14\n",
      " Week 12: MAE=0.19\n",
      " Week 13: MAE=0.15\n",
      " Week 14: MAE=0.29\n",
      " Week 15: MAE=0.19\n",
      " Week 16: MAE=0.27\n",
      " Week 17: MAE=0.20\n",
      " Week 18: MAE=0.21\n",
      "Season 2022: Total Mean Absolute Error=0.18\n",
      "Total Mean Squared Error=0.09\n",
      "\n"
     ]
    },
    {
     "data": {
      "image/png": "[encoded data removed]",
      "text/plain": [
       "<Figure size 640x480 with 1 Axes>"
      ]
     },
     "metadata": {},
     "output_type": "display_data"
    },
    {
     "name": "stdout",
     "output_type": "stream",
     "text": [
      "\n",
      "Results for 2023:\n",
      " Week  1: MAE=0.12\n",
      " Week  2: MAE=0.24\n",
      " Week  3: MAE=0.18\n",
      " Week  4: MAE=0.09\n",
      " Week  5: MAE=0.19\n",
      " Week  6: MAE=0.22\n",
      " Week  7: MAE=0.11\n",
      " Week  8: MAE=0.20\n",
      " Week  9: MAE=0.16\n",
      " Week 10: MAE=0.35\n",
      " Week 11: MAE=0.19\n",
      " Week 12: MAE=0.26\n",
      " Week 13: MAE=0.17\n",
      " Week 14: MAE=0.33\n",
      " Week 15: MAE=0.19\n",
      " Week 16: MAE=0.20\n",
      " Week 17: MAE=0.23\n",
      " Week 18: MAE=0.19\n",
      "Season 2023: Total Mean Absolute Error=0.20\n",
      "Total Mean Squared Error=0.11\n",
      "\n"
     ]
    },
    {
     "data": {
      "image/png": "[encoded data removed]",
      "text/plain": [
       "<Figure size 640x480 with 1 Axes>"
      ]
     },
     "metadata": {},
     "output_type": "display_data"
    }
   ],
   "source": [
    "from sklearn.neighbors import KNeighborsRegressor\n",
    "from sklearn.pipeline import Pipeline\n",
    "from sklearn.preprocessing import StandardScaler\n",
    "from sklearn.metrics import mean_squared_error, mean_absolute_error\n",
    "import matplotlib.pyplot as plt\n",
    "\n",
    "df = nfl_df.query('Home == 1').reset_index(drop=True)\n",
    "\n",
    "# Set the features and target variable\n",
    "features = ['Spread','Total']\n",
    "target = 'Spread'\n",
    "\n",
    "# Iterate over the seasons\n",
    "for season in [2021, 2022, 2023]:\n",
    "    print(f'\\nResults for {season}:')\n",
    "\n",
    "    # Lists to hold predictions and true values for each season\n",
    "    y_preds = []\n",
    "    y_trues = []\n",
    "\n",
    "    # Iterate over the weeks in the season\n",
    "    for week in range(1, 19):\n",
    "        print(f' Week {week:>2}:', end=' ')\n",
    "\n",
    "        # Split data into training and test sets\n",
    "        train_df = df.query('Season < @season or (Season == @season and Week < @week)')\n",
    "        test_df = df.query('Season == @season and Week == @week and Actual_Total != Total')\n",
    "\n",
    "        X_train = train_df[features]\n",
    "        y_train = train_df[target]\n",
    "        X_test = test_df[features]\n",
    "        y_test = test_df[target]\n",
    "\n",
    "        # Pipeline with scaling and KNeighborsRegressor\n",
    "        pipe = Pipeline([\n",
    "            ('scaler', StandardScaler()),\n",
    "            ('model', KNeighborsRegressor(n_neighbors=7))\n",
    "        ])\n",
    "\n",
    "        # Fit the regression model\n",
    "        pipe.fit(X_train, y_train)\n",
    "\n",
    "        # Predict the Spread values\n",
    "        y_pred = pipe.predict(X_test)\n",
    "\n",
    "        # Save true and predicted values for evaluation\n",
    "        y_preds += list(y_pred)\n",
    "        y_trues += list(y_test)\n",
    "\n",
    "        # Print evaluation metrics for each week\n",
    "        print(f'MAE={mean_absolute_error(y_test, y_pred):.2f}')\n",
    "\n",
    "    # Season summary metrics\n",
    "    print(f'Season {season}: Total Mean Absolute Error={mean_absolute_error(y_trues, y_preds):.2f}')\n",
    "    print(f'Total Mean Squared Error={mean_squared_error(y_trues, y_preds):.2f}\\n')\n",
    "\n",
    "    # Plot predicted vs. actual spreads\n",
    "    plt.scatter(y_trues, y_preds, alpha=0.6)\n",
    "    plt.xlabel('Actual Spread')\n",
    "    plt.ylabel('Predicted Spread')\n",
    "    plt.title(f'Predicted vs. Actual Spread for {season}')\n",
    "    plt.plot([min(y_trues), max(y_trues)], [min(y_trues), max(y_trues)], 'r--')\n",
    "    plt.grid(True)\n",
    "    plt.show()"
   ]
  },
  {
   "cell_type": "code",
   "execution_count": null,
   "id": "16a88f89-c7de-4912-8d2d-80d9fd5275a8",
   "metadata": {},
   "outputs": [],
   "source": [
    "index = 0\n",
    "for game_index, spread, total in X_test.itertuples():\n",
    "    nbr_distance = clf.kneighbors(X_test)[0][index]\n",
    "    nbr_index = clf.kneighbors(X_test)[1][index]\n",
    "    index += 1\n",
    "\n",
    "    print(f'GAME')\n",
    "    print(df.iloc[[game_index],:][['Season','Week','Team','Opp','Spread','Total','Actual_Total','Under']])\n",
    "    print(f'\\nNEAREST NEIGHBORS (distances={[round(value, 2) for value in nbr_distance]})')\n",
    "    print(df.iloc[nbr_index,:][['Season','Week','Team','Opp','Spread','Total','Actual_Total','Under']])\n",
    "    print('\\n')"
   ]
  },
  {
   "cell_type": "code",
   "execution_count": 8,
   "id": "03ee7dab-b82c-4ee0-b25f-f3a5626e5a72",
   "metadata": {},
   "outputs": [
    {
     "name": "stdout",
     "output_type": "stream",
     "text": [
      "MODEL PREDICTIONS FOR WEEK 10 OF THE 2024 NFL SEASON\n",
      "\n",
      "                     Game  Spread  Total KNC(7)\n",
      "0        Bengals @ Ravens    -6.0   46.0   Over\n",
      "1       Giants @ Panthers     6.5   40.5   Over\n",
      "2        Patriots @ Bears    -6.0   42.0   Over\n",
      "3           Bills @ Colts     4.0   46.5  Under\n",
      "4        Broncos @ Chiefs    -7.5   44.5   Over\n",
      "5        Falcons @ Saints     3.5   44.5  Under\n",
      "6      49ers @ Buccaneers     6.5   46.5   Over\n",
      "7   Steelers @ Commanders    -3.0   43.5  Under\n",
      "8       Vikings @ Jaguars     7.0   44.5   Over\n",
      "9       Titans @ Chargers    -7.5   42.5   Over\n",
      "10       Eagles @ Cowboys     7.5   48.0  Under\n",
      "11       Jets @ Cardinals     1.5   45.5  Under\n",
      "12         Lions @ Texans     3.5   50.0  Under\n",
      "13        Dolphins @ Rams    -1.5   46.0  Under\n"
     ]
    }
   ],
   "source": [
    "df = nfl_df.query('Home == 1').reset_index(drop=True)\n",
    "\n",
    "features = ['Spread', 'Total']\n",
    "target = 'Under'\n",
    "\n",
    "season = 2024\n",
    "week = 10\n",
    "\n",
    "train_df = df.query('Season < @season or (Season == @season and Week < @week)')\n",
    "\n",
    "X_train = train_df[features]\n",
    "y_train = train_df[target]\n",
    "\n",
    "week1 = [\n",
    "    ['Ravens @ Chiefs', -3.0, 46.5],\n",
    "    ['Packers @ Eagles', -2.5, 49.0],\n",
    "    ['Cardinals @ Bills', -5.5, 48.0],\n",
    "    ['Panthers @ Saints', -4.0, 40.0],\n",
    "    ['Texans @ Colts', +2.5, 49.0],\n",
    "    ['Steelers @ Falcons', -3.0, 41.0],\n",
    "    ['Titans @ Bears', -4.0, 44.5],\n",
    "    ['Patriots @ Bengals', -9.0, 40.5],\n",
    "    ['Cowboys @ Browns', -2.5, 43.0],\n",
    "    ['Rams @ Lions', -3.5, 51.0],\n",
    "    ['Jaguars @ Dolphins', -3.5, 49.0],\n",
    "    ['Vikings @ Giants', +1.0, 41.0],\n",
    "    ['Raiders @ Chargers', -3.5, 42.5],\n",
    "    ['Broncos @ Seahawks', -5.0, 42.0],\n",
    "    ['Commanders @ Buccaneers', -3.0, 42.5],\n",
    "    ['Jets @ 49ers', -3.5, 44.0]\n",
    "]\n",
    "\n",
    "week2 = [\n",
    "    ['Bills @ Dolphins', -2.5, 50.5],\n",
    "    ['Chargers @ Panthers', +5.0, 42.5],\n",
    "    ['Rams @ Cardinals', -1.0, 47.5],\n",
    "    ['Saints @ Cowboys', -6.0, 44.5],\n",
    "    ['Colts @ Packers', +2.5, 47.5],\n",
    "    ['Steelers @ Broncos', +2.5, 41.0],\n",
    "    ['Giants @ Commanders', -1.5, 43.0],\n",
    "    ['Browns @ Jaguars', -3.0, 44.0],\n",
    "    ['Bengals @ Chiefs', -6.0, 48.0],\n",
    "    ['49ers @ Vikings', +5.0, 47.0],\n",
    "    ['Seahawks @ Patriots', +3.5, 41.5],\n",
    "    ['Jets @ Titans', +3.5, 44.5],\n",
    "    ['Bucanners @ Lions', -7.5, 49.0],\n",
    "    ['Raiders @ Ravens', -8.5, 44.0],\n",
    "    ['Bears @ Texans', -6.5, 46.5],\n",
    "    ['Falcons @ Eagles', -5.5, 47.5]\n",
    "]\n",
    "\n",
    "week3 = [\n",
    "    ['Patriots @ Jets', -6.5, 42.0],\n",
    "    ['Giants @ Browns', -6.5, 42.5],\n",
    "    ['Bears @ Colts', -1.5, 46.5],\n",
    "    ['Texans @ Vikings', +1.5, 46.5],\n",
    "    ['Eagles @ Saints', -2.5, 45.0],\n",
    "    ['Chargers @ Steelers', -2.5, 42.5],\n",
    "    ['Broncos @ Buccaneers', -6.0, 42.5],\n",
    "    ['Packers @ Titans', -3.0, 44.0],\n",
    "    ['Panthers @ Raiders', -6.0, 42.0],\n",
    "    ['Dolphins @ Seahawks', -4.5, 48.5],\n",
    "    ['Lions @ Cardinals', +3.0, 50.0],\n",
    "    ['Ravens @ Cowboys', +1.0, 48.0],\n",
    "    ['49ers @ Rams', +6.5, 46.5],\n",
    "    ['Chiefs @ Falcons', +3.0, 49.0],\n",
    "    ['Jaguars @ Bills', -5.0, 48.5],\n",
    "    ['Commanders @ Bengals', -7.5, 47.5]\n",
    "]\n",
    "\n",
    "week4 = [\n",
    "    ['Cowboys @ Giants', +5.5, 44.5],\n",
    "    ['Patriots @ 49ers', -10.5, 43.5],\n",
    "    ['Bengals @ Panthers', +4.5, 45.5],\n",
    "    ['Saints @ Falcons', -3.0, 44.5],\n",
    "    ['Rams @ Bears', -3.0, 47.0],\n",
    "    ['Vikings @ Packers', -3.0, 45.0],\n",
    "    ['Eagles @ Buccaneers', +1.0, 47.0],\n",
    "    ['Jaguars @ Texans', -5.5, 47.0],\n",
    "    ['Steelers @ Colts', +2.0, 44.5],\n",
    "    ['Broncos @ Jets', -8.0, 42.5],\n",
    "    ['Commanders @ Cardinals', -3.5, 45.0],\n",
    "    ['Browns @ Raiders', +2.5, 43.5],\n",
    "    ['Chiefs @ Chargers', +7.5, 46.0],\n",
    "    ['Bills @ Ravens', -2.5, 46.5],\n",
    "    ['Titans @ Dolphins', -2.5, 46.0],\n",
    "    ['Seahawks @ Lions', -3.5, 49.0]\n",
    "]\n",
    "\n",
    "week5 = [\n",
    "    ['Buccaneers @ Falcons', -2.5, 44.5],\n",
    "    ['Jets @ Vikings', -2.5, 42.5],\n",
    "    ['Ravens @ Bengals', +2.5, 46.5],\n",
    "    ['Dolphins @ Patriots', +1.0, 45],\n",
    "    ['Panthers @ Bears', -4.0, 42.0],\n",
    "    ['Bills @ Texans', -1.0, 47.5],\n",
    "    ['Colts @ Jaguars', -3.0, 47.0],\n",
    "    ['Browns @ Commanders', -3.5, 43.5],\n",
    "    ['Raiders @ Broncos', -3.0, 41.0],\n",
    "    ['Cardinals @ Niners', -7.0, 47.0],\n",
    "    ['Packers @ Rams', +3.0, 48.0],\n",
    "    ['Giants @ Seahawks', -7.0, 43.0],\n",
    "    ['Cowboys @ Steelers', -2.5, 43.0],\n",
    "    ['Saints @ Cheifs', -5.5, 43.5],\n",
    "]\n",
    "\n",
    "week6 = [\n",
    "    ['Niners @ Seahawks', +3.5, 46.5],\n",
    "    ['Jaguars @ Bears', -1.5, 44.5],\n",
    "    ['Cardinals @ Packers', -5.0, 47.0],\n",
    "    ['Texans @ Patriots', +7.0, 38.0],\n",
    "    ['Commanders @ Ravens', -6.5, 51.5],\n",
    "    ['Buccaneers @ Saints', +3.5, 41.5],\n",
    "    ['Browns @ Eagles', -9.5, 42.5],\n",
    "    ['Colts @ Titans', -2.5, 43.0],\n",
    "    ['Chargers @ Broncos', +3.0, 36.0],\n",
    "    ['Steelers @ Raiders', +3.0, 36.5],\n",
    "    ['Falcons @ Panthers', +6.0, 47.0],\n",
    "    ['Lions @ Cowboys', +3.0, 52.0],\n",
    "    ['Bengals @ Giants', +3.5, 47.5],\n",
    "    ['Bills @ Jets', +2.5, 41.0],\n",
    "]\n",
    "\n",
    "week7 = [\n",
    "    ['Broncos @ Saints', +3.0, 41.5],  \n",
    "    ['Patriots @ Jaguars', -6.0, 40.5], \n",
    "    ['Seahawks @ Falcons', -3.0, 47.0],\n",
    "    ['Titans @ Bills', -9.5, 46.5],\n",
    "    ['Bengals @ Browns', +5.5, 46.0],\n",
    "    ['Texans @ Packers', -3.0, 48.5],\n",
    "    ['Dolphins @ Colts', -3.0, 49.0],\n",
    "    ['Lions @ Vikings', -1.5, 48.0],\n",
    "    ['Eagles @ Giants', +3.5, 44.0],\n",
    "    ['Raiders @ Rams', -7.0, 45.5],\n",
    "    ['Panthers @ Commanders', -9.5, 41.0],\n",
    "    ['Chiefs @ 49ers', -1.5, 47.5],\n",
    "    ['Jets @ Steelers', +1.5, 43.0], \n",
    "    ['Ravens @ Buccaneers', +3.5, 44.5],\n",
    "    ['Chargers @ Cardinals', +1.5, 47.0]  \n",
    "]\n",
    "\n",
    "week8 = [\n",
    "    ['Vikings @ Rams', +2.5, 45.5],\n",
    "    ['Ravens @ Browns', +8.5, 45.0],\n",
    "    ['Colts @ Texans', -5.0, 47.5],\n",
    "    ['Packers @ Jaguars', +3.5, 45.0],\n",
    "    ['Cardinals @ Dolphins', -4.0, 48.5],\n",
    "    ['Jets @ Patriots', +7.0, 40.5],\n",
    "    ['Falcons @ Buccaneers', +2.5, 42.5],\n",
    "    ['Eagles @ Bengals', -2.5, 47.5],\n",
    "    ['Saints @ Chargers', -7.0, 42.5],\n",
    "    ['Bills @ Seahawks', +3.0, 46.5],\n",
    "    ['Panthers @ Broncos', -11.0, 40.5],\n",
    "    ['Chiefs @ Raiders', +8.5, 46.0],\n",
    "    ['Cowboys @ 49ers', -5.5, 46.5],\n",
    "    ['Bears @ Commanders', -1.0, 44.5],  \n",
    "    ['Titans @ Lions', -11.5, 47.5],     \n",
    "    ['Giants @ Steelers', -6.0, 41.5]    \n",
    "]\n",
    "\n",
    "week9 = [\n",
    "    ['Texans @ Jets', -2.5, 45.0],\n",
    "    ['Cowboys @ Falcons', -3.0, 46.0],\n",
    "    ['Dolphins @ Bills', -6.0, 47.5],\n",
    "    ['Raiders @ Bengals', -7.0, 44.0],\n",
    "    ['Chargers @ Browns', +1.5, 43.5],\n",
    "    ['Patriots @ Titans', -3.5, 45.0],\n",
    "    ['Commanders @ Giants', +4.0, 42.0],\n",
    "    ['Saints @ Panthers', +7.0, 43.0],\n",
    "    ['Broncos @ Ravens', -8.0, 41.0],\n",
    "    ['Jaguars @ Eagles', -7.5, 47.0],\n",
    "    ['Bears @ Cardinals', -1.5, 42.5],\n",
    "    ['Lions @ Packers', +2.5, 44.5],\n",
    "    ['Rams @ Seahawks', +1.5, 46.0],\n",
    "    ['Colts @ Vikings', -5.5, 45.0],\n",
    "    ['Buccaneers @ Chiefs', -8.5, 49.0]\n",
    "]\n",
    "\n",
    "week10 = [\n",
    "    ['Bengals @ Ravens', -6.0, 46.0],\n",
    "    ['Giants @ Panthers', +6.5, 40.5],\n",
    "    ['Patriots @ Bears', -6.0, 42.0],\n",
    "    ['Bills @ Colts', +4.0, 46.5],\n",
    "    ['Broncos @ Chiefs', -7.5, 44.5],\n",
    "    ['Falcons @ Saints', +3.5, 44.5],\n",
    "    ['49ers @ Buccaneers', +6.5, 46.5],\n",
    "    ['Steelers @ Commanders', -3.0, 43.5],\n",
    "    ['Vikings @ Jaguars', +7.0, 44.5],\n",
    "    ['Titans @ Chargers', -7.5, 42.5],\n",
    "    ['Eagles @ Cowboys', +7.5, 48.0],\n",
    "    ['Jets @ Cardinals', +1.5, 45.5],\n",
    "    ['Lions @ Texans', +3.5, 50.0],\n",
    "    ['Dolphins @ Rams', -1.5, 46.0]\n",
    "]\n",
    "\n",
    "\n",
    "\n",
    "X_new = pd.DataFrame(week10, columns=['Game', 'Spread', 'Total'])\n",
    "\n",
    "pipe = Pipeline([\n",
    "    ('scaler', StandardScaler()),\n",
    "    ('model', KNeighborsClassifier(n_neighbors=7))\n",
    "])\n",
    "\n",
    "clf = pipe.fit(X_train, y_train)\n",
    "\n",
    "lof = LocalOutlierFactor(novelty=True)\n",
    "pipe2 = Pipeline([\n",
    "    ('scaler', StandardScaler()),\n",
    "    ('lof', LocalOutlierFactor(novelty=True))\n",
    "])\n",
    "pipe2.fit(X_train)\n",
    "y_test_novelty = pipe2.predict(X_new[features])\n",
    "\n",
    "mask = [y == 1 for y in y_test_novelty]\n",
    "X_new = X_new[mask]\n",
    "        \n",
    "y_pred = clf.predict(X_new[features])\n",
    "\n",
    "if week == 1:\n",
    "     y_pred = [1] * len(X_new)\n",
    "\n",
    "\n",
    "X_new['KNC(7)'] = y_pred\n",
    "X_new['KNC(7)'] = X_new['KNC(7)'].apply(lambda x: 'Under' if x == 1 else 'Over')\n",
    "\n",
    "print(f'MODEL PREDICTIONS FOR WEEK {week} OF THE {season} NFL SEASON\\n')\n",
    "print(X_new[['Game','Spread','Total','KNC(7)']]) "
   ]
  },
  {
   "cell_type": "code",
   "execution_count": 9,
   "id": "3b364a8f-0b45-4332-9b94-d28e2717d3eb",
   "metadata": {},
   "outputs": [
    {
     "name": "stdout",
     "output_type": "stream",
     "text": [
      "MODEL PREDICTIONS FOR WEEK 10 OF THE 2024 NFL SEASON\n",
      "\n",
      "                     Game  Spread  Total  Predicted Spread\n",
      "0        Bengals @ Ravens    -6.0   46.0         -6.142857\n",
      "1       Giants @ Panthers     6.5   40.5          6.714286\n",
      "2        Patriots @ Bears    -6.0   42.0         -6.142857\n",
      "3           Bills @ Colts     4.0   46.5          3.714286\n",
      "4        Broncos @ Chiefs    -7.5   44.5         -7.500000\n",
      "5        Falcons @ Saints     3.5   44.5          3.214286\n",
      "6      49ers @ Buccaneers     6.5   46.5          6.428571\n",
      "7   Steelers @ Commanders    -3.0   43.5         -3.000000\n",
      "8       Vikings @ Jaguars     7.0   44.5          6.928571\n",
      "9       Titans @ Chargers    -7.5   42.5         -7.214286\n",
      "10       Eagles @ Cowboys     7.5   48.0          7.357143\n",
      "11       Jets @ Cardinals     1.5   45.5          1.428571\n",
      "12         Lions @ Texans     3.5   50.0          3.285714\n",
      "13        Dolphins @ Rams    -1.5   46.0         -1.214286\n"
     ]
    },
    {
     "data": {
      "image/png": "[encoded data removed]",
      "text/plain": [
       "<Figure size 640x480 with 1 Axes>"
      ]
     },
     "metadata": {},
     "output_type": "display_data"
    }
   ],
   "source": [
    "from sklearn.neighbors import KNeighborsRegressor\n",
    "from sklearn.pipeline import Pipeline\n",
    "from sklearn.preprocessing import StandardScaler\n",
    "from sklearn.neighbors import LocalOutlierFactor\n",
    "import pandas as pd\n",
    "import matplotlib.pyplot as plt\n",
    "\n",
    "# Assuming nfl_df is pre-loaded with necessary data\n",
    "df = nfl_df.query('Home == 1').reset_index(drop=True)\n",
    "\n",
    "# Define features and target\n",
    "features = ['Spread','Total']\n",
    "target = 'Spread'\n",
    "\n",
    "# Define the season and week\n",
    "season = 2024\n",
    "week = 10\n",
    "\n",
    "# Split the data into training sets\n",
    "train_df = df.query('Season < @season or (Season == @season and Week < @week)')\n",
    "X_train = train_df[features]\n",
    "y_train = train_df[target]\n",
    "\n",
    "# Define games for week 1\n",
    "week1 = [\n",
    "    ['Ravens @ Chiefs', -3.0, 46.5],\n",
    "    ['Packers @ Eagles', -2.5, 49.0],\n",
    "    ['Cardinals @ Bills', -5.5, 48.0],\n",
    "    ['Panthers @ Saints', -4.0, 40.0],\n",
    "    ['Texans @ Colts', +2.5, 49.0],\n",
    "    ['Steelers @ Falcons', -3.0, 41.0],\n",
    "    ['Titans @ Bears', -4.0, 44.5],\n",
    "    ['Patriots @ Bengals', -9.0, 40.5],\n",
    "    ['Cowboys @ Browns', -2.5, 43.0],\n",
    "    ['Rams @ Lions', -3.5, 51.0],\n",
    "    ['Jaguars @ Dolphins', -3.5, 49.0],\n",
    "    ['Vikings @ Giants', +1.0, 41.0],\n",
    "    ['Raiders @ Chargers', -3.5, 42.5],\n",
    "    ['Broncos @ Seahawks', -5.0, 42.0],\n",
    "    ['Commanders @ Buccaneers', -3.0, 42.5],\n",
    "    ['Jets @ 49ers', -3.5, 44.0]\n",
    "]\n",
    "\n",
    "week2 = [\n",
    "    ['Bills @ Dolphins', -2.5, 50.5],\n",
    "    ['Chargers @ Panthers', +5.0, 42.5],\n",
    "    ['Rams @ Cardinals', -1.0, 47.5],\n",
    "    ['Saints @ Cowboys', -6.0, 44.5],\n",
    "    ['Colts @ Packers', +2.5, 47.5],\n",
    "    ['Steelers @ Broncos', +2.5, 41.0],\n",
    "    ['Giants @ Commanders', -1.5, 43.0],\n",
    "    ['Browns @ Jaguars', -3.0, 44.0],\n",
    "    ['Bengals @ Chiefs', -6.0, 48.0],\n",
    "    ['49ers @ Vikings', +5.0, 47.0],\n",
    "    ['Seahawks @ Patriots', +3.5, 41.5],\n",
    "    ['Jets @ Titans', +3.5, 44.5],\n",
    "    ['Bucanners @ Lions', -7.5, 49.0],\n",
    "    ['Raiders @ Ravens', -8.5, 44.0],\n",
    "    ['Bears @ Texans', -6.5, 46.5],\n",
    "    ['Falcons @ Eagles', -5.5, 47.5]\n",
    "]\n",
    "\n",
    "week3 = [\n",
    "    ['Patriots @ Jets', -6.5, 42.0],\n",
    "    ['Giants @ Browns', -6.5, 42.5],\n",
    "    ['Bears @ Colts', -1.5, 46.5],\n",
    "    ['Texans @ Vikings', +1.5, 46.5],\n",
    "    ['Eagles @ Saints', -2.5, 45.0],\n",
    "    ['Chargers @ Steelers', -2.5, 42.5],\n",
    "    ['Broncos @ Buccaneers', -6.0, 42.5],\n",
    "    ['Packers @ Titans', -3.0, 44.0],\n",
    "    ['Panthers @ Raiders', -6.0, 42.0],\n",
    "    ['Dolphins @ Seahawks', -4.5, 48.5],\n",
    "    ['Lions @ Cardinals', +3.0, 50.0],\n",
    "    ['Ravens @ Cowboys', +1.0, 48.0],\n",
    "    ['49ers @ Rams', +6.5, 46.5],\n",
    "    ['Chiefs @ Falcons', +3.0, 49.0],\n",
    "    ['Jaguars @ Bills', -5.0, 48.5],\n",
    "    ['Commanders @ Bengals', -7.5, 47.5]\n",
    "]\n",
    "\n",
    "week4 = [\n",
    "    ['Cowboys @ Giants', +5.5, 44.5],\n",
    "    ['Patriots @ 49ers', -10.5, 43.5],\n",
    "    ['Bengals @ Panthers', +4.5, 45.5],\n",
    "    ['Saints @ Falcons', -3.0, 44.5],\n",
    "    ['Rams @ Bears', -3.0, 47.0],\n",
    "    ['Vikings @ Packers', -3.0, 45.0],\n",
    "    ['Eagles @ Buccaneers', +1.0, 47.0],\n",
    "    ['Jaguars @ Texans', -5.5, 47.0],\n",
    "    ['Steelers @ Colts', +2.0, 44.5],\n",
    "    ['Broncos @ Jets', -8.0, 42.5],\n",
    "    ['Commanders @ Cardinals', -3.5, 45.0],\n",
    "    ['Browns @ Raiders', +2.5, 43.5],\n",
    "    ['Chiefs @ Chargers', +7.5, 46.0],\n",
    "    ['Bills @ Ravens', -2.5, 46.5],\n",
    "    ['Titans @ Dolphins', -2.5, 46.0],\n",
    "    ['Seahawks @ Lions', -3.5, 49.0]\n",
    "]\n",
    "\n",
    "week5 = [\n",
    "    ['Buccaneers @ Falcons', -2.5, 44.5],\n",
    "    ['Jets @ Vikings', -2.5, 42.5],\n",
    "    ['Ravens @ Bengals', +2.5, 46.5],\n",
    "    ['Dolphins @ Patriots', +1.0, 45],\n",
    "    ['Panthers @ Bears', -4.0, 42.0],\n",
    "    ['Bills @ Texans', -1.0, 47.5],\n",
    "    ['Colts @ Jaguars', -3.0, 47.0],\n",
    "    ['Browns @ Commanders', -3.5, 43.5],\n",
    "    ['Raiders @ Broncos', -3.0, 41.0],\n",
    "    ['Cardinals @ Niners', -7.0, 47.0],\n",
    "    ['Packers @ Rams', +3.0, 48.0],\n",
    "    ['Giants @ Seahawks', -7.0, 43.0],\n",
    "    ['Cowboys @ Steelers', -2.5, 43.0],\n",
    "    ['Saints @ Cheifs', -5.5, 43.5],\n",
    "]\n",
    "\n",
    "week6 = [\n",
    "    ['Niners @ Seahawks', +3.5, 46.5],\n",
    "    ['Jaguars @ Bears', -1.5, 44.5],\n",
    "    ['Cardinals @ Packers', -5.0, 47.0],\n",
    "    ['Texans @ Patriots', +7.0, 38.0],\n",
    "    ['Commanders @ Ravens', -6.5, 51.5],\n",
    "    ['Buccaneers @ Saints', +3.5, 41.5],\n",
    "    ['Browns @ Eagles', -9.5, 42.5],\n",
    "    ['Colts @ Titans', -2.5, 43.0],\n",
    "    ['Chargers @ Broncos', +3.0, 36.0],\n",
    "    ['Steelers @ Raiders', +3.0, 36.5],\n",
    "    ['Falcons @ Panthers', +6.0, 47.0],\n",
    "    ['Lions @ Cowboys', +3.0, 52.0],\n",
    "    ['Bengals @ Giants', +3.5, 47.5],\n",
    "    ['Bills @ Jets', +2.5, 41.0],\n",
    "]\n",
    "\n",
    "week7 = [\n",
    "    ['Broncos @ Saints', +3.0, 41.5],  \n",
    "    ['Patriots @ Jaguars', -6.0, 40.5], \n",
    "    ['Seahawks @ Falcons', -3.0, 47.0],\n",
    "    ['Titans @ Bills', -9.5, 46.5],\n",
    "    ['Bengals @ Browns', +5.5, 46.0],\n",
    "    ['Texans @ Packers', -3.0, 48.5],\n",
    "    ['Dolphins @ Colts', -3.0, 49.0],\n",
    "    ['Lions @ Vikings', -1.5, 48.0],\n",
    "    ['Eagles @ Giants', +3.5, 44.0],\n",
    "    ['Raiders @ Rams', -7.0, 45.5],\n",
    "    ['Panthers @ Commanders', -9.5, 41.0],\n",
    "    ['Chiefs @ 49ers', -1.5, 47.5],\n",
    "    ['Jets @ Steelers', +1.5, 43.0], \n",
    "    ['Ravens @ Buccaneers', +3.5, 44.5],\n",
    "    ['Chargers @ Cardinals', +1.5, 47.0]  \n",
    "]\n",
    "\n",
    "week8 = [\n",
    "    ['Vikings @ Rams', +2.5, 45.5],\n",
    "    ['Ravens @ Browns', +8.5, 45.0],\n",
    "    ['Colts @ Texans', -5.0, 47.5],\n",
    "    ['Packers @ Jaguars', +3.5, 45.0],\n",
    "    ['Cardinals @ Dolphins', -4.0, 48.5],\n",
    "    ['Jets @ Patriots', +7.0, 40.5],\n",
    "    ['Falcons @ Buccaneers', +2.5, 42.5],\n",
    "    ['Eagles @ Bengals', -2.5, 47.5],\n",
    "    ['Saints @ Chargers', -7.0, 42.5],\n",
    "    ['Bills @ Seahawks', +3.0, 46.5],\n",
    "    ['Panthers @ Broncos', -11.0, 40.5],\n",
    "    ['Chiefs @ Raiders', +8.5, 46.0],\n",
    "    ['Cowboys @ 49ers', -5.5, 46.5],\n",
    "    ['Bears @ Commanders', -1.0, 44.5],  \n",
    "    ['Titans @ Lions', -11.5, 47.5],     \n",
    "    ['Giants @ Steelers', -6.0, 41.5]    \n",
    "]\n",
    "\n",
    "week9 = [\n",
    "    ['Texans @ Jets', -2.5, 45.0],\n",
    "    ['Cowboys @ Falcons', -3.0, 46.0],\n",
    "    ['Dolphins @ Bills', -6.0, 47.5],\n",
    "    ['Raiders @ Bengals', -7.0, 44.0],\n",
    "    ['Chargers @ Browns', +1.5, 43.5],\n",
    "    ['Patriots @ Titans', -3.5, 45.0],\n",
    "    ['Commanders @ Giants', +4.0, 42.0],\n",
    "    ['Saints @ Panthers', +7.0, 43.0],\n",
    "    ['Broncos @ Ravens', -8.0, 41.0],\n",
    "    ['Jaguars @ Eagles', -7.5, 47.0],\n",
    "    ['Bears @ Cardinals', -1.5, 42.5],\n",
    "    ['Lions @ Packers', +2.5, 44.5],\n",
    "    ['Rams @ Seahawks', +1.5, 46.0],\n",
    "    ['Colts @ Vikings', -5.5, 45.0],\n",
    "    ['Buccaneers @ Chiefs', -8.5, 49.0]\n",
    "]\n",
    "\n",
    "week10 = [\n",
    "    ['Bengals @ Ravens', -6.0, 46.0],\n",
    "    ['Giants @ Panthers', +6.5, 40.5],\n",
    "    ['Patriots @ Bears', -6.0, 42.0],\n",
    "    ['Bills @ Colts', +4.0, 46.5],\n",
    "    ['Broncos @ Chiefs', -7.5, 44.5],\n",
    "    ['Falcons @ Saints', +3.5, 44.5],\n",
    "    ['49ers @ Buccaneers', +6.5, 46.5],\n",
    "    ['Steelers @ Commanders', -3.0, 43.5],\n",
    "    ['Vikings @ Jaguars', +7.0, 44.5],\n",
    "    ['Titans @ Chargers', -7.5, 42.5],\n",
    "    ['Eagles @ Cowboys', +7.5, 48.0],\n",
    "    ['Jets @ Cardinals', +1.5, 45.5],\n",
    "    ['Lions @ Texans', +3.5, 50.0],\n",
    "    ['Dolphins @ Rams', -1.5, 46.0]\n",
    "]\n",
    "\n",
    "\n",
    "# Create a DataFrame for the new week's games\n",
    "X_new = pd.DataFrame(week10, columns=['Game', 'Spread', 'Total'])\n",
    "\n",
    "# Create a pipeline with StandardScaler and KNeighborsRegressor\n",
    "pipe = Pipeline([\n",
    "    ('scaler', StandardScaler()),\n",
    "    ('model', KNeighborsRegressor(n_neighbors=7))\n",
    "])\n",
    "\n",
    "# Fit the regression model\n",
    "clf = pipe.fit(X_train, y_train)\n",
    "\n",
    "# Outlier detection using LocalOutlierFactor\n",
    "pipe2 = Pipeline([\n",
    "    ('scaler', StandardScaler()),\n",
    "    ('lof', LocalOutlierFactor(novelty=True))\n",
    "])\n",
    "pipe2.fit(X_train)\n",
    "y_test_novelty = pipe2.predict(X_new[features])\n",
    "\n",
    "# Mask to filter out detected outliers\n",
    "mask = [y == 1 for y in y_test_novelty]\n",
    "X_new = X_new[mask]\n",
    "\n",
    "# Predict spreads using the regression model\n",
    "y_pred = clf.predict(X_new[features])\n",
    "\n",
    "# Add the predictions to the DataFrame\n",
    "X_new['Predicted Spread'] = y_pred\n",
    "\n",
    "# Print the results\n",
    "print(f'MODEL PREDICTIONS FOR WEEK {week} OF THE {season} NFL SEASON\\n')\n",
    "print(X_new[['Game', 'Spread', 'Total', 'Predicted Spread']])\n",
    "\n",
    "# Plotting the actual vs predicted spreads\n",
    "plt.scatter(X_new['Spread'], X_new['Predicted Spread'], alpha=0.7)\n",
    "plt.xlabel('Actual Spread')\n",
    "plt.ylabel('Predicted Spread')\n",
    "plt.title('Actual vs Predicted Spread')\n",
    "plt.plot([min(X_new['Spread']), max(X_new['Spread'])], [min(X_new['Spread']), max(X_new['Spread'])], 'r--')\n",
    "plt.grid(True)\n",
    "plt.show()\n"
   ]
  },
  {
   "cell_type": "code",
   "execution_count": null,
   "id": "f3b97ebe-dbed-439c-8ce8-a373404d0358",
   "metadata": {},
   "outputs": [],
   "source": []
  }
 ],
 "metadata": {
  "kernelspec": {
   "display_name": "Python 3 (ipykernel)",
   "language": "python",
   "name": "python3"
  },
  "language_info": {
   "codemirror_mode": {
    "name": "ipython",
    "version": 3
   },
   "file_extension": ".py",
   "mimetype": "text/x-python",
   "name": "python",
   "nbconvert_exporter": "python",
   "pygments_lexer": "ipython3",
   "version": "3.11.9"
  }
 },
 "nbformat": 4,
 "nbformat_minor": 5
}
